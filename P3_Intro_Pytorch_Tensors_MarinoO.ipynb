{
  "cells": [
    {
      "cell_type": "markdown",
      "metadata": {
        "id": "view-in-github"
      },
      "source": [
        "<a href=\"https://colab.research.google.com/github/dkaratzas/DL2022-23/blob/main/Problems%202%20-%20Using%20Autograd%20and%20PyTorch/P2_2_Intro_Tensors.ipynb\" target=\"_parent\"><img src=\"https://colab.research.google.com/assets/colab-badge.svg\" alt=\"Open In Colab\"/></a>"
      ]
    },
    {
      "cell_type": "markdown",
      "metadata": {
        "id": "tcvesegFyIX-"
      },
      "source": [
        "[![Open In SageMaker Studio Lab](https://studiolab.sagemaker.aws/studiolab.svg)](https://studiolab.sagemaker.aws/import/github/dkaratzas/DL2022-23/blob/main/Problems%202%20-%20Using%20Autograd%20and%20PyTorch/P2_2_Intro_Tensors.ipynb)"
      ]
    },
    {
      "cell_type": "markdown",
      "metadata": {
        "id": "8IF4i31_7jbg"
      },
      "source": [
        "# What is PyTorch?\n",
        "\n",
        "<a href=\"https://pytorch.org/\">Pytorch</a> is a Python based scientific computing package targeted at two types of audience:\n",
        "\n",
        "-  At the low level, it is a tensor library capable to exploit the computational power of GPUs\n",
        "-  At the high level, it is a deep learning research platform that provides maximum flexibility and speed"
      ]
    },
    {
      "cell_type": "markdown",
      "metadata": {
        "id": "1ng2mpMYgkpu"
      },
      "source": [
        "## Import the library"
      ]
    },
    {
      "cell_type": "code",
      "execution_count": 1,
      "metadata": {
        "id": "FzX92S587jbm"
      },
      "outputs": [],
      "source": [
        "import torch"
      ]
    },
    {
      "cell_type": "markdown",
      "metadata": {
        "id": "y62dQH467jbn"
      },
      "source": [
        "## Getting help in Jupyter"
      ]
    },
    {
      "cell_type": "markdown",
      "metadata": {
        "id": "Ll9zxJ9IyIYB"
      },
      "source": [
        "The fastest way to get some quick help on something using Jupyter is to just ask! Type any Python object name you want followed by a question mark `?` and the code documentation will be loaded in your notebook. Try it with `torch`"
      ]
    },
    {
      "cell_type": "code",
      "execution_count": 2,
      "metadata": {
        "id": "LN6xGdhUyIYB"
      },
      "outputs": [],
      "source": [
        "torch?"
      ]
    },
    {
      "cell_type": "markdown",
      "metadata": {
        "id": "qLMcdjjuyIYB"
      },
      "source": [
        "The following command will list all objects of torch that with a name that finishes with \"Tensor\""
      ]
    },
    {
      "cell_type": "code",
      "execution_count": 3,
      "metadata": {
        "id": "BIqY0-QT7jbo"
      },
      "outputs": [],
      "source": [
        "# In Colab, you can press <esc> to get out of help\n",
        "torch.*Tensor?"
      ]
    },
    {
      "cell_type": "markdown",
      "metadata": {
        "id": "DpLRB9CFyIYC"
      },
      "source": [
        "If you use Colab, you also have a handy autocomplete feature at hand. For example, start writing a function name, like `torch.sqrt` if you pause after the first few characters a context menu with possible options will appear. Select the term you meant and press Tab or Enter to autocomplete. Note, this will not work in Jupyter Lab / Notebook out of the box, you would need to install an extension to enable this functionality."
      ]
    },
    {
      "cell_type": "code",
      "execution_count": 4,
      "metadata": {
        "id": "4g-D23eg7jbn"
      },
      "outputs": [],
      "source": [
        "# start typing torch.sqr...  wait and then use <Tab> or <Enter> to autocomplete to torch.sqrt()\n"
      ]
    },
    {
      "cell_type": "markdown",
      "metadata": {
        "id": "EcGTutwryIYD"
      },
      "source": [
        "In Jupyter Lab (but not in CoLab) you can access the documentation by clicking on the Python object and pressing `<Shift>` + `<Tab>`. Try it in the line below (if you are using Jupyter Lab)"
      ]
    },
    {
      "cell_type": "code",
      "execution_count": 5,
      "metadata": {
        "colab": {
          "base_uri": "https://localhost:8080/"
        },
        "id": "ED3Z0RKO7jbo",
        "outputId": "9216995b-b77a-43e2-fdba-fb0abc56bc81"
      },
      "outputs": [
        {
          "output_type": "execute_result",
          "data": {
            "text/plain": [
              "Module()"
            ]
          },
          "metadata": {},
          "execution_count": 5
        }
      ],
      "source": [
        "torch.nn.Module()  # <Shift>+<Tab>"
      ]
    },
    {
      "cell_type": "markdown",
      "metadata": {
        "id": "tGLfjLTgyIYD"
      },
      "source": [
        "You should see the same result as with the line below"
      ]
    },
    {
      "cell_type": "code",
      "execution_count": 6,
      "metadata": {
        "id": "vrBufY4q7jbo"
      },
      "outputs": [],
      "source": [
        "# Annotate your functions / classes!\n",
        "torch.nn.Module?"
      ]
    },
    {
      "cell_type": "markdown",
      "metadata": {
        "id": "oQjnow2DyIYE"
      },
      "source": [
        "Where does this documentation come from? Part of it comes from the code itself, and part of it from the annotations (special comments) that are introduced in the function / class definitions. To have a look at the actual code of a function, just use a double `??`. See for example below, and get used to annotating your functions / classes as well!"
      ]
    },
    {
      "cell_type": "code",
      "execution_count": 7,
      "metadata": {
        "id": "k6gVzBNi7jbp"
      },
      "outputs": [],
      "source": [
        "torch.nn.Module??"
      ]
    },
    {
      "cell_type": "markdown",
      "metadata": {
        "id": "3odUxKDa7jbq"
      },
      "source": [
        "## Torch!"
      ]
    },
    {
      "cell_type": "markdown",
      "metadata": {
        "id": "mw3ACW-eyIYE"
      },
      "source": [
        "At the core of PyTorch there is the `Tensor` class. It is very much like numpy's arrays, but supports autograd."
      ]
    },
    {
      "cell_type": "code",
      "execution_count": 8,
      "metadata": {
        "colab": {
          "base_uri": "https://localhost:8080/"
        },
        "id": "dxMMJ1tO7jbq",
        "outputId": "c420e029-4f63-480f-9dae-7fad546bc3eb"
      },
      "outputs": [
        {
          "output_type": "execute_result",
          "data": {
            "text/plain": [
              "torch.Tensor"
            ]
          },
          "metadata": {},
          "execution_count": 8
        }
      ],
      "source": [
        "# Generate a tensor of size 2x3x4\n",
        "t = torch.Tensor(2, 3, 4)\n",
        "type(t)\n"
      ]
    },
    {
      "cell_type": "code",
      "execution_count": 9,
      "metadata": {
        "colab": {
          "base_uri": "https://localhost:8080/"
        },
        "id": "P3xcTvfc7jbr",
        "outputId": "9cbb0b9e-ba32-4e68-d12e-b80f1fd4089c"
      },
      "outputs": [
        {
          "output_type": "execute_result",
          "data": {
            "text/plain": [
              "torch.Size([2, 3, 4])"
            ]
          },
          "metadata": {},
          "execution_count": 9
        }
      ],
      "source": [
        "# Get the size of the tensor\n",
        "t.size()"
      ]
    },
    {
      "cell_type": "markdown",
      "metadata": {
        "id": "kDV8gZtQyIYK"
      },
      "source": [
        "# Tensors and tensors"
      ]
    },
    {
      "cell_type": "code",
      "execution_count": 10,
      "metadata": {
        "colab": {
          "base_uri": "https://localhost:8080/"
        },
        "id": "okM52HiDyIYL",
        "outputId": "21d6b757-253d-4c86-a8c7-38959473ce28"
      },
      "outputs": [
        {
          "output_type": "execute_result",
          "data": {
            "text/plain": [
              "torch.Tensor"
            ]
          },
          "metadata": {},
          "execution_count": 10
        }
      ],
      "source": [
        "t = torch.Tensor(2, 3, 4)\n",
        "type(t)"
      ]
    },
    {
      "cell_type": "code",
      "execution_count": 11,
      "metadata": {
        "colab": {
          "base_uri": "https://localhost:8080/"
        },
        "id": "4BTJlKPWyIYL",
        "outputId": "450233f1-0369-43a0-eeb5-2eade90c56cf"
      },
      "outputs": [
        {
          "output_type": "execute_result",
          "data": {
            "text/plain": [
              "torch.Size([2, 3, 4])"
            ]
          },
          "metadata": {},
          "execution_count": 11
        }
      ],
      "source": [
        "t.shape"
      ]
    },
    {
      "cell_type": "code",
      "execution_count": 12,
      "metadata": {
        "colab": {
          "base_uri": "https://localhost:8080/"
        },
        "id": "pusVGlb5yIYL",
        "outputId": "dfbfff10-7fe8-4418-f2dc-f91505153718"
      },
      "outputs": [
        {
          "output_type": "execute_result",
          "data": {
            "text/plain": [
              "tensor([[[2.1707e-18, 7.0952e+22, 1.7748e+28, 1.8176e+31],\n",
              "         [7.2708e+31, 5.0778e+31, 3.2608e-12, 1.7728e+28],\n",
              "         [7.0367e+22, 2.1715e-18, 1.7155e-07, 2.1391e+23]],\n",
              "\n",
              "        [[2.0314e+20, 2.1272e+23, 7.9876e+20, 1.0527e-11],\n",
              "         [1.3445e+22, 6.8250e-07, 2.6367e-09, 2.1707e-18],\n",
              "         [7.1450e+31, 6.1970e-04, 2.8909e+26, 2.8418e+20]]])"
            ]
          },
          "metadata": {},
          "execution_count": 12
        }
      ],
      "source": [
        "t"
      ]
    },
    {
      "cell_type": "code",
      "execution_count": 13,
      "metadata": {
        "colab": {
          "base_uri": "https://localhost:8080/"
        },
        "id": "ObX2wLyCyIYL",
        "outputId": "4bdec2ce-6cbc-44e1-f679-9eeda8c3d2be"
      },
      "outputs": [
        {
          "output_type": "execute_result",
          "data": {
            "text/plain": [
              "torch.Tensor"
            ]
          },
          "metadata": {},
          "execution_count": 13
        }
      ],
      "source": [
        "t1 = torch.tensor([1, 2, 3, 4])\n",
        "type(t1)"
      ]
    },
    {
      "cell_type": "code",
      "execution_count": 14,
      "metadata": {
        "colab": {
          "base_uri": "https://localhost:8080/"
        },
        "id": "sll5NbsTyIYL",
        "outputId": "394265bb-089c-45b9-fa05-25d5c589ccb2"
      },
      "outputs": [
        {
          "output_type": "execute_result",
          "data": {
            "text/plain": [
              "tensor([1, 2, 3, 4])"
            ]
          },
          "metadata": {},
          "execution_count": 14
        }
      ],
      "source": [
        "t1"
      ]
    },
    {
      "cell_type": "code",
      "execution_count": 15,
      "metadata": {
        "colab": {
          "base_uri": "https://localhost:8080/"
        },
        "id": "tYJJkp2FyIYL",
        "outputId": "2c3d024f-6b0a-49b1-91eb-12b931d7d182"
      },
      "outputs": [
        {
          "output_type": "execute_result",
          "data": {
            "text/plain": [
              "torch.Size([4])"
            ]
          },
          "metadata": {},
          "execution_count": 15
        }
      ],
      "source": [
        "t1.shape"
      ]
    },
    {
      "cell_type": "code",
      "execution_count": 16,
      "metadata": {
        "colab": {
          "base_uri": "https://localhost:8080/"
        },
        "id": "HVoVwZLByIYM",
        "outputId": "947ca3c5-4e39-4de7-dae9-521dff97a84c"
      },
      "outputs": [
        {
          "output_type": "execute_result",
          "data": {
            "text/plain": [
              "torch.Tensor"
            ]
          },
          "metadata": {},
          "execution_count": 16
        }
      ],
      "source": [
        "t2 = torch.tensor([[[1, 2, 3, 4], [1, 2, 3, 4], [1, 2, 3, 4]], [[1, 2, 3, 4], [1, 2, 3, 4], [1, 2, 3, 4]]])\n",
        "type(t2)"
      ]
    },
    {
      "cell_type": "code",
      "execution_count": 17,
      "metadata": {
        "colab": {
          "base_uri": "https://localhost:8080/"
        },
        "id": "Y306ZdIXyIYM",
        "outputId": "05dfc605-abda-4dc3-cb74-b3a2435d1837"
      },
      "outputs": [
        {
          "output_type": "execute_result",
          "data": {
            "text/plain": [
              "tensor([[[1, 2, 3, 4],\n",
              "         [1, 2, 3, 4],\n",
              "         [1, 2, 3, 4]],\n",
              "\n",
              "        [[1, 2, 3, 4],\n",
              "         [1, 2, 3, 4],\n",
              "         [1, 2, 3, 4]]])"
            ]
          },
          "metadata": {},
          "execution_count": 17
        }
      ],
      "source": [
        "t2"
      ]
    },
    {
      "cell_type": "code",
      "execution_count": 18,
      "metadata": {
        "colab": {
          "base_uri": "https://localhost:8080/"
        },
        "id": "bwPWsVjqyIYM",
        "outputId": "917d71ef-b960-43fd-fc01-a89f91d63e4c"
      },
      "outputs": [
        {
          "output_type": "execute_result",
          "data": {
            "text/plain": [
              "torch.Size([2, 3, 4])"
            ]
          },
          "metadata": {},
          "execution_count": 18
        }
      ],
      "source": [
        "t2.shape"
      ]
    },
    {
      "cell_type": "code",
      "execution_count": 19,
      "metadata": {
        "colab": {
          "base_uri": "https://localhost:8080/"
        },
        "id": "60fsUROsyIYM",
        "outputId": "bebb8909-98f8-4879-b1d1-5e41bdbc5957"
      },
      "outputs": [
        {
          "output_type": "execute_result",
          "data": {
            "text/plain": [
              "tensor([[[0., 0., 0., 0.],\n",
              "         [0., 0., 0., 0.],\n",
              "         [0., 0., 0., 0.]],\n",
              "\n",
              "        [[0., 0., 0., 0.],\n",
              "         [0., 0., 0., 0.],\n",
              "         [0., 0., 0., 0.]]])"
            ]
          },
          "metadata": {},
          "execution_count": 19
        }
      ],
      "source": [
        "torch.zeros(2, 3, 4)"
      ]
    },
    {
      "cell_type": "markdown",
      "metadata": {
        "id": "-enxHw_JaeZJ"
      },
      "source": [
        "# Dimensions"
      ]
    },
    {
      "cell_type": "code",
      "execution_count": 20,
      "metadata": {
        "colab": {
          "base_uri": "https://localhost:8080/"
        },
        "id": "XXAmpH-Z7jbr",
        "outputId": "23da2584-dd48-47fb-c4c8-544058277bf2"
      },
      "outputs": [
        {
          "output_type": "stream",
          "name": "stdout",
          "text": [
            "point in a 24 dimensional space\n",
            "organised in 3 sub-dimensions\n"
          ]
        }
      ],
      "source": [
        "t = torch.Tensor(2, 3, 4)\n",
        "# prints dimensional space and sub-dimensions\n",
        "print(f'point in a {t.numel()} dimensional space')\n",
        "print(f'organised in {t.dim()} sub-dimensions')"
      ]
    },
    {
      "cell_type": "code",
      "execution_count": 21,
      "metadata": {
        "colab": {
          "base_uri": "https://localhost:8080/"
        },
        "id": "uC8XADcV7jbr",
        "outputId": "67475166-fb95-4863-9684-2682a49f6d07"
      },
      "outputs": [
        {
          "output_type": "execute_result",
          "data": {
            "text/plain": [
              "tensor([[[0.0000e+00, 0.0000e+00, 1.8788e+31, 1.7220e+22],\n",
              "         [2.1715e-18, 2.6512e-09, 4.3444e-05, 1.6631e+22],\n",
              "         [1.6999e+22, 1.0547e-08, 1.0315e-08, 3.3977e+21]],\n",
              "\n",
              "        [[1.0802e-05, 6.4528e-10, 1.4580e-19, 1.1495e+24],\n",
              "         [3.0881e+29, 1.5766e-19, 7.3313e+22, 7.2151e+22],\n",
              "         [2.8404e+29, 2.3089e-12, 1.9421e+31, 2.7491e+20]]])"
            ]
          },
          "metadata": {},
          "execution_count": 21
        }
      ],
      "source": [
        "t"
      ]
    },
    {
      "cell_type": "code",
      "execution_count": 22,
      "metadata": {
        "colab": {
          "base_uri": "https://localhost:8080/"
        },
        "id": "3ARC3wOQ7jbr",
        "outputId": "98351f3a-2d77-438d-e7d5-f51caa11db8e"
      },
      "outputs": [
        {
          "output_type": "execute_result",
          "data": {
            "text/plain": [
              "tensor([[[6., 9., 3., 8.],\n",
              "         [1., 1., 7., 0.],\n",
              "         [9., 7., 5., 6.]],\n",
              "\n",
              "        [[1., 7., 5., 1.],\n",
              "         [5., 7., 7., 5.],\n",
              "         [3., 9., 2., 2.]]])"
            ]
          },
          "metadata": {},
          "execution_count": 22
        }
      ],
      "source": [
        "# Mind the underscore!\n",
        "# Any operation that mutates a tensor in-place is post-fixed with an _.\n",
        "# For example: x.copy_(y), x.t_(), x.random_(n) will change x.\n",
        "t.random_(10)"
      ]
    },
    {
      "cell_type": "code",
      "execution_count": 23,
      "metadata": {
        "colab": {
          "base_uri": "https://localhost:8080/"
        },
        "id": "wL2ajaMg7jbs",
        "outputId": "94357657-36ce-4a4f-8db4-676a76374ac2"
      },
      "outputs": [
        {
          "output_type": "execute_result",
          "data": {
            "text/plain": [
              "tensor([[6., 9., 3., 8., 1., 1., 7., 0.],\n",
              "        [9., 7., 5., 6., 1., 7., 5., 1.],\n",
              "        [5., 7., 7., 5., 3., 9., 2., 2.]])"
            ]
          },
          "metadata": {},
          "execution_count": 23
        }
      ],
      "source": [
        "r = t.view(3, 8) # r is the Tensor reshaped to the size 3x8\n",
        "r"
      ]
    },
    {
      "cell_type": "code",
      "execution_count": 24,
      "metadata": {
        "colab": {
          "base_uri": "https://localhost:8080/"
        },
        "id": "ivViPVSG7jbs",
        "outputId": "d794c37c-d0a6-4bbd-e478-748402341622"
      },
      "outputs": [
        {
          "output_type": "execute_result",
          "data": {
            "text/plain": [
              "tensor([[0., 0., 0., 0., 0., 0., 0., 0.],\n",
              "        [0., 0., 0., 0., 0., 0., 0., 0.],\n",
              "        [0., 0., 0., 0., 0., 0., 0., 0.]])"
            ]
          },
          "metadata": {},
          "execution_count": 24
        }
      ],
      "source": [
        "# As you can see zero_ would replace r with 0's which was originally filled with integers\n",
        "r.zero_()"
      ]
    },
    {
      "cell_type": "code",
      "execution_count": 25,
      "metadata": {
        "colab": {
          "base_uri": "https://localhost:8080/"
        },
        "id": "-7KuYVw17jbs",
        "outputId": "49e7caba-082d-4e7f-d271-81a43c64a1b0"
      },
      "outputs": [
        {
          "output_type": "execute_result",
          "data": {
            "text/plain": [
              "tensor([[[0., 0., 0., 0.],\n",
              "         [0., 0., 0., 0.],\n",
              "         [0., 0., 0., 0.]],\n",
              "\n",
              "        [[0., 0., 0., 0.],\n",
              "         [0., 0., 0., 0.],\n",
              "         [0., 0., 0., 0.]]])"
            ]
          },
          "metadata": {},
          "execution_count": 25
        }
      ],
      "source": [
        "t"
      ]
    },
    {
      "cell_type": "code",
      "execution_count": 26,
      "metadata": {
        "colab": {
          "base_uri": "https://localhost:8080/"
        },
        "id": "uIhTq4nIdqx7",
        "outputId": "20f2889d-8b6c-4d4e-a06b-5e2c6b613e25"
      },
      "outputs": [
        {
          "output_type": "stream",
          "name": "stdout",
          "text": [
            "(12, 4, 1) (8, 1)\n",
            "torch.Size([2, 3, 4]) torch.Size([3, 8])\n"
          ]
        }
      ],
      "source": [
        "# What are strides. And how are they related to shapes?\n",
        "print(t.stride(), r.stride())\n",
        "print(t.shape, r.shape)"
      ]
    },
    {
      "cell_type": "code",
      "execution_count": 27,
      "metadata": {
        "colab": {
          "base_uri": "https://localhost:8080/"
        },
        "id": "Uum4hxYkffli",
        "outputId": "320a6751-0ac6-4054-dc54-86edd7df229a"
      },
      "outputs": [
        {
          "output_type": "execute_result",
          "data": {
            "text/plain": [
              "tensor([[[9., 2., 3., 0.],\n",
              "         [4., 7., 1., 9.],\n",
              "         [9., 5., 5., 8.]],\n",
              "\n",
              "        [[5., 6., 0., 5.],\n",
              "         [5., 2., 2., 3.],\n",
              "         [3., 6., 9., 5.]]])"
            ]
          },
          "metadata": {},
          "execution_count": 27
        }
      ],
      "source": [
        "# Let's try that again without doing the operations in place\n",
        "t.random_(10)"
      ]
    },
    {
      "cell_type": "code",
      "execution_count": 28,
      "metadata": {
        "colab": {
          "base_uri": "https://localhost:8080/"
        },
        "id": "bJM4es_M-p2Y",
        "outputId": "3f75dbf3-482a-43fe-99f6-5a1c842c030a"
      },
      "outputs": [
        {
          "output_type": "execute_result",
          "data": {
            "text/plain": [
              "tensor([[0., 0., 0., 0., 0., 0., 0., 0.],\n",
              "        [0., 0., 0., 0., 0., 0., 0., 0.],\n",
              "        [0., 0., 0., 0., 0., 0., 0., 0.]])"
            ]
          },
          "metadata": {},
          "execution_count": 28
        }
      ],
      "source": [
        "# Not in place\n",
        "r = t.view(3, 8)\n",
        "r = torch.zeros_like(r)\n",
        "r"
      ]
    },
    {
      "cell_type": "code",
      "execution_count": 29,
      "metadata": {
        "colab": {
          "base_uri": "https://localhost:8080/"
        },
        "id": "Ivw8wI5U-12D",
        "outputId": "ac811859-2fee-49a9-8357-f54bf42b4ef3"
      },
      "outputs": [
        {
          "output_type": "execute_result",
          "data": {
            "text/plain": [
              "tensor([[[9., 2., 3., 0.],\n",
              "         [4., 7., 1., 9.],\n",
              "         [9., 5., 5., 8.]],\n",
              "\n",
              "        [[5., 6., 0., 5.],\n",
              "         [5., 2., 2., 3.],\n",
              "         [3., 6., 9., 5.]]])"
            ]
          },
          "metadata": {},
          "execution_count": 29
        }
      ],
      "source": [
        "t"
      ]
    },
    {
      "cell_type": "code",
      "execution_count": 30,
      "metadata": {
        "colab": {
          "base_uri": "https://localhost:8080/"
        },
        "id": "dJdGqvwTdiMs",
        "outputId": "b1121555-b054-4bd8-9c4c-953c61a6d910"
      },
      "outputs": [
        {
          "output_type": "stream",
          "name": "stdout",
          "text": [
            "(12, 4, 1) (8, 1)\n"
          ]
        }
      ],
      "source": [
        "# What are strides?\n",
        "print(t.stride(), r.stride())"
      ]
    },
    {
      "cell_type": "code",
      "execution_count": 31,
      "metadata": {
        "id": "p6Fcui7u7jbs"
      },
      "outputs": [],
      "source": [
        "# This *is* important\n",
        "s = r.clone()"
      ]
    },
    {
      "cell_type": "code",
      "execution_count": 32,
      "metadata": {
        "colab": {
          "base_uri": "https://localhost:8080/"
        },
        "id": "rm9a0zci7jbt",
        "outputId": "71ed86d9-5644-4ac0-bd58-9a7e94ed1fe8"
      },
      "outputs": [
        {
          "output_type": "execute_result",
          "data": {
            "text/plain": [
              "tensor([[1., 1., 1., 1., 1., 1., 1., 1.],\n",
              "        [1., 1., 1., 1., 1., 1., 1., 1.],\n",
              "        [1., 1., 1., 1., 1., 1., 1., 1.]])"
            ]
          },
          "metadata": {},
          "execution_count": 32
        }
      ],
      "source": [
        "# In-place fill of 1's\n",
        "s.fill_(1)\n",
        "s"
      ]
    },
    {
      "cell_type": "code",
      "execution_count": 33,
      "metadata": {
        "colab": {
          "base_uri": "https://localhost:8080/"
        },
        "id": "Q1K3hywm7jbt",
        "outputId": "750ecf1d-a1f5-4f04-e325-d39746ba2d54"
      },
      "outputs": [
        {
          "output_type": "execute_result",
          "data": {
            "text/plain": [
              "tensor([[0., 0., 0., 0., 0., 0., 0., 0.],\n",
              "        [0., 0., 0., 0., 0., 0., 0., 0.],\n",
              "        [0., 0., 0., 0., 0., 0., 0., 0.]])"
            ]
          },
          "metadata": {},
          "execution_count": 33
        }
      ],
      "source": [
        "# Because we cloned r, even though we did an in-place operation, this doesn't affect r\n",
        "r"
      ]
    },
    {
      "cell_type": "markdown",
      "metadata": {
        "id": "ir1URH3v7jbt"
      },
      "source": [
        "## Vectors (1D Tensors)"
      ]
    },
    {
      "cell_type": "code",
      "execution_count": 34,
      "metadata": {
        "colab": {
          "base_uri": "https://localhost:8080/"
        },
        "id": "dRCvA1R17jbt",
        "outputId": "0c9a4df6-4dac-4d40-fb60-c4bcf3693405"
      },
      "outputs": [
        {
          "output_type": "execute_result",
          "data": {
            "text/plain": [
              "tensor([1., 2., 3., 4.])"
            ]
          },
          "metadata": {},
          "execution_count": 34
        }
      ],
      "source": [
        "# Creates a 1D tensor of integers 1 to 4\n",
        "v = torch.Tensor([1, 2, 3, 4])\n",
        "v"
      ]
    },
    {
      "cell_type": "code",
      "execution_count": 35,
      "metadata": {
        "colab": {
          "base_uri": "https://localhost:8080/"
        },
        "id": "wmkSLrIi7jbt",
        "outputId": "108dc46f-dba9-4e73-c120-9a90066636e6"
      },
      "outputs": [
        {
          "output_type": "stream",
          "name": "stdout",
          "text": [
            "dim: 1, size: 4\n"
          ]
        }
      ],
      "source": [
        "# Print number of dimensions (1D) and size of tensor\n",
        "print(f'dim: {v.dim()}, size: {v.size()[0]}')"
      ]
    },
    {
      "cell_type": "code",
      "execution_count": 36,
      "metadata": {
        "colab": {
          "base_uri": "https://localhost:8080/"
        },
        "id": "K03oi68R7jbu",
        "outputId": "aaa1d2c1-3c8f-4e8a-ad33-9fc51c12c097"
      },
      "outputs": [
        {
          "output_type": "execute_result",
          "data": {
            "text/plain": [
              "tensor([1., 0., 2., 0.])"
            ]
          },
          "metadata": {},
          "execution_count": 36
        }
      ],
      "source": [
        "w = torch.Tensor([1, 0, 2, 0])\n",
        "w"
      ]
    },
    {
      "cell_type": "code",
      "execution_count": 37,
      "metadata": {
        "colab": {
          "base_uri": "https://localhost:8080/"
        },
        "id": "yGGpVC_b7jbu",
        "outputId": "8649a389-89e5-49f2-9695-7072d4110a2c"
      },
      "outputs": [
        {
          "output_type": "execute_result",
          "data": {
            "text/plain": [
              "tensor([1., 0., 6., 0.])"
            ]
          },
          "metadata": {},
          "execution_count": 37
        }
      ],
      "source": [
        "# Element-wise multiplication\n",
        "v * w"
      ]
    },
    {
      "cell_type": "code",
      "execution_count": 38,
      "metadata": {
        "colab": {
          "base_uri": "https://localhost:8080/"
        },
        "id": "pq7-Aqs_7jbu",
        "outputId": "4f139cfc-bb67-4823-d867-73121059c639"
      },
      "outputs": [
        {
          "output_type": "execute_result",
          "data": {
            "text/plain": [
              "tensor(7.)"
            ]
          },
          "metadata": {},
          "execution_count": 38
        }
      ],
      "source": [
        "# Scalar product: 1*1 + 2*0 + 3*2 + 4*0\n",
        "v @ w"
      ]
    },
    {
      "cell_type": "code",
      "execution_count": 39,
      "metadata": {
        "colab": {
          "base_uri": "https://localhost:8080/"
        },
        "id": "x-oXbFTO7jbu",
        "outputId": "4ca81e6c-f137-4af8-ecbc-47cdc152243e"
      },
      "outputs": [
        {
          "output_type": "execute_result",
          "data": {
            "text/plain": [
              "tensor([7., 1., 7., 2., 1.])"
            ]
          },
          "metadata": {},
          "execution_count": 39
        }
      ],
      "source": [
        "# In-place replacement of random number from 0 to 10\n",
        "x = torch.Tensor(5).random_(10)\n",
        "x"
      ]
    },
    {
      "cell_type": "code",
      "execution_count": 40,
      "metadata": {
        "colab": {
          "base_uri": "https://localhost:8080/"
        },
        "id": "00BUa-L47jbu",
        "outputId": "d492da40-f326-4316-cd5e-af5c2920cfcc"
      },
      "outputs": [
        {
          "output_type": "stream",
          "name": "stdout",
          "text": [
            "first: 7.0, last: 1.0\n"
          ]
        }
      ],
      "source": [
        "print(f'first: {x[0]}, last: {x[-1]}')"
      ]
    },
    {
      "cell_type": "code",
      "execution_count": 41,
      "metadata": {
        "colab": {
          "base_uri": "https://localhost:8080/"
        },
        "id": "ZX_Uy_T17jbu",
        "outputId": "8cc0b4db-7798-4394-eb24-551cb087933c"
      },
      "outputs": [
        {
          "output_type": "execute_result",
          "data": {
            "text/plain": [
              "tensor([1., 7.])"
            ]
          },
          "metadata": {},
          "execution_count": 41
        }
      ],
      "source": [
        "# Extract sub-Tensor [from:to)\n",
        "x[1:2 + 1]"
      ]
    },
    {
      "cell_type": "code",
      "execution_count": 42,
      "metadata": {
        "colab": {
          "base_uri": "https://localhost:8080/"
        },
        "id": "ZPNJt5Kt7jbv",
        "outputId": "aa5bab7a-08a0-4e08-ae66-8e2cfbe6c2e0"
      },
      "outputs": [
        {
          "output_type": "execute_result",
          "data": {
            "text/plain": [
              "tensor([1, 2, 3, 4])"
            ]
          },
          "metadata": {},
          "execution_count": 42
        }
      ],
      "source": [
        "# Create a tensor with integers ranging from 1 to 4 (both included)\n",
        "v = torch.arange(1, 5)\n",
        "v"
      ]
    },
    {
      "cell_type": "code",
      "execution_count": 43,
      "metadata": {
        "colab": {
          "base_uri": "https://localhost:8080/"
        },
        "id": "7_nwZPg-7jbv",
        "outputId": "c94fbd2c-71fa-40b8-b718-78660355b350"
      },
      "outputs": [
        {
          "output_type": "stream",
          "name": "stdout",
          "text": [
            "tensor([ 1,  4,  9, 16]) tensor([1, 2, 3, 4])\n"
          ]
        }
      ],
      "source": [
        "# Square all elements in the tensor\n",
        "print(v.pow(2), v)"
      ]
    },
    {
      "cell_type": "markdown",
      "metadata": {
        "id": "De7wobZv7jbv"
      },
      "source": [
        "## Matrices (2D Tensors)"
      ]
    },
    {
      "cell_type": "code",
      "execution_count": 44,
      "metadata": {
        "colab": {
          "base_uri": "https://localhost:8080/"
        },
        "id": "JuiyP0MK7jbv",
        "outputId": "cbc18840-a2d9-42fd-edc7-4a4fe0c3d949"
      },
      "outputs": [
        {
          "output_type": "execute_result",
          "data": {
            "text/plain": [
              "tensor([[2., 5., 3., 7.],\n",
              "        [4., 2., 1., 9.]])"
            ]
          },
          "metadata": {},
          "execution_count": 44
        }
      ],
      "source": [
        "# Create a 2x4 tensor\n",
        "m = torch.Tensor([[2, 5, 3, 7],\n",
        "                  [4, 2, 1, 9]])\n",
        "m"
      ]
    },
    {
      "cell_type": "code",
      "execution_count": 45,
      "metadata": {
        "colab": {
          "base_uri": "https://localhost:8080/"
        },
        "id": "xI36U8sv7jbv",
        "outputId": "7da55a72-d210-4365-d02b-55aa93b119a5"
      },
      "outputs": [
        {
          "output_type": "execute_result",
          "data": {
            "text/plain": [
              "2"
            ]
          },
          "metadata": {},
          "execution_count": 45
        }
      ],
      "source": [
        "m.dim()"
      ]
    },
    {
      "cell_type": "code",
      "execution_count": 46,
      "metadata": {
        "colab": {
          "base_uri": "https://localhost:8080/"
        },
        "id": "7f91z4dw7jbw",
        "outputId": "55a1ff78-0bf7-4ce3-eee9-bb82ae674a8f"
      },
      "outputs": [
        {
          "output_type": "stream",
          "name": "stdout",
          "text": [
            "2 -- 4 -- torch.Size([2, 4])\n"
          ]
        }
      ],
      "source": [
        "print(m.size(0), m.size(1), m.size(), sep=' -- ')"
      ]
    },
    {
      "cell_type": "code",
      "execution_count": 47,
      "metadata": {
        "colab": {
          "base_uri": "https://localhost:8080/"
        },
        "id": "4vuLnT2z7jbw",
        "outputId": "b8805d5d-40af-4c9e-b36b-0067bb022724"
      },
      "outputs": [
        {
          "output_type": "execute_result",
          "data": {
            "text/plain": [
              "tensor(3.)"
            ]
          },
          "metadata": {},
          "execution_count": 47
        }
      ],
      "source": [
        "# Indexing row 0, column 2 (0-indexed)\n",
        "m[0][2]"
      ]
    },
    {
      "cell_type": "code",
      "execution_count": 48,
      "metadata": {
        "colab": {
          "base_uri": "https://localhost:8080/"
        },
        "id": "YLIC7pG97jbw",
        "outputId": "6f204df5-6dbb-46b2-f0fb-032164b97573"
      },
      "outputs": [
        {
          "output_type": "execute_result",
          "data": {
            "text/plain": [
              "tensor(3.)"
            ]
          },
          "metadata": {},
          "execution_count": 48
        }
      ],
      "source": [
        "# Indexing row 0, column 2 (0-indexed)\n",
        "m[0, 2]"
      ]
    },
    {
      "cell_type": "code",
      "execution_count": 49,
      "metadata": {
        "colab": {
          "base_uri": "https://localhost:8080/"
        },
        "id": "tsutF_zc7jbw",
        "outputId": "bb92ae53-f278-4f65-9624-09e744a8a682"
      },
      "outputs": [
        {
          "output_type": "execute_result",
          "data": {
            "text/plain": [
              "tensor([5., 2.])"
            ]
          },
          "metadata": {},
          "execution_count": 49
        }
      ],
      "source": [
        "# Indexing column 1, all rows (returns size 2)\n",
        "m[:, 1]"
      ]
    },
    {
      "cell_type": "code",
      "execution_count": 50,
      "metadata": {
        "colab": {
          "base_uri": "https://localhost:8080/"
        },
        "id": "cLg24cHx7jbw",
        "outputId": "1cfa9b2b-9f25-4688-e433-bc0ff0bce406"
      },
      "outputs": [
        {
          "output_type": "execute_result",
          "data": {
            "text/plain": [
              "tensor([[5.],\n",
              "        [2.]])"
            ]
          },
          "metadata": {},
          "execution_count": 50
        }
      ],
      "source": [
        "# Indexing column 1, all rows (returns size 2x1)\n",
        "m[:, [1]]"
      ]
    },
    {
      "cell_type": "code",
      "execution_count": 51,
      "metadata": {
        "colab": {
          "base_uri": "https://localhost:8080/"
        },
        "id": "F8nu79EU7jbx",
        "outputId": "cea4691e-d97c-46df-8639-c92d872efdff"
      },
      "outputs": [
        {
          "output_type": "execute_result",
          "data": {
            "text/plain": [
              "tensor([[2., 5., 3., 7.]])"
            ]
          },
          "metadata": {},
          "execution_count": 51
        }
      ],
      "source": [
        "# Indexes row 0, all columns (returns 1x4)\n",
        "m[[0], :]"
      ]
    },
    {
      "cell_type": "code",
      "execution_count": 52,
      "metadata": {
        "colab": {
          "base_uri": "https://localhost:8080/"
        },
        "id": "oYVpTC7l7jbx",
        "outputId": "8857876b-68e0-4641-893b-8d4bde75758f"
      },
      "outputs": [
        {
          "output_type": "execute_result",
          "data": {
            "text/plain": [
              "tensor([1., 2., 3., 4.])"
            ]
          },
          "metadata": {},
          "execution_count": 52
        }
      ],
      "source": [
        "# Create tensor of numbers from 1 to 5)\n",
        "v = torch.arange(1., 5)\n",
        "v"
      ]
    },
    {
      "cell_type": "code",
      "execution_count": 53,
      "metadata": {
        "colab": {
          "base_uri": "https://localhost:8080/"
        },
        "id": "0UQd3S3w7jbx",
        "outputId": "cae2eb47-cd93-4620-c25b-1b898aaa6179"
      },
      "outputs": [
        {
          "output_type": "execute_result",
          "data": {
            "text/plain": [
              "tensor([[2., 5., 3., 7.],\n",
              "        [4., 2., 1., 9.]])"
            ]
          },
          "metadata": {},
          "execution_count": 53
        }
      ],
      "source": [
        "m"
      ]
    },
    {
      "cell_type": "code",
      "execution_count": 54,
      "metadata": {
        "colab": {
          "base_uri": "https://localhost:8080/"
        },
        "id": "c10o4XUQ7jbx",
        "outputId": "c507bcec-ab06-4bc6-a026-d71a65f3d120"
      },
      "outputs": [
        {
          "output_type": "execute_result",
          "data": {
            "text/plain": [
              "tensor([49., 47.])"
            ]
          },
          "metadata": {},
          "execution_count": 54
        }
      ],
      "source": [
        "# Scalar product\n",
        "m @ v"
      ]
    },
    {
      "cell_type": "code",
      "execution_count": 55,
      "metadata": {
        "colab": {
          "base_uri": "https://localhost:8080/"
        },
        "id": "fEkCtsZG7jbx",
        "outputId": "6ae30581-16e3-4946-f428-d5458b0faf9f"
      },
      "outputs": [
        {
          "output_type": "execute_result",
          "data": {
            "text/plain": [
              "tensor(49.)"
            ]
          },
          "metadata": {},
          "execution_count": 55
        }
      ],
      "source": [
        "# Calculated by 1*2 + 2*5 + 3*3 + 4*7\n",
        "m[0, :] @ v"
      ]
    },
    {
      "cell_type": "code",
      "execution_count": 56,
      "metadata": {
        "colab": {
          "base_uri": "https://localhost:8080/"
        },
        "id": "HzxKEjus7jby",
        "outputId": "9f884952-deef-4187-8a04-ba2e435431fb"
      },
      "outputs": [
        {
          "output_type": "execute_result",
          "data": {
            "text/plain": [
              "tensor([47.])"
            ]
          },
          "metadata": {},
          "execution_count": 56
        }
      ],
      "source": [
        "# Calculated by\n",
        "m[[1], :] @ v"
      ]
    },
    {
      "cell_type": "code",
      "execution_count": 57,
      "metadata": {
        "colab": {
          "base_uri": "https://localhost:8080/"
        },
        "id": "mP7c5qI17jby",
        "outputId": "6234120f-9bc8-4595-b6cf-f220507e9f42"
      },
      "outputs": [
        {
          "output_type": "execute_result",
          "data": {
            "text/plain": [
              "tensor([[2.6435, 5.4938, 3.4863, 7.5615],\n",
              "        [4.8931, 2.5136, 1.4862, 9.8947]])"
            ]
          },
          "metadata": {},
          "execution_count": 57
        }
      ],
      "source": [
        "# Add a random tensor of size 2x4 to m\n",
        "m + torch.rand(2, 4)"
      ]
    },
    {
      "cell_type": "code",
      "execution_count": 58,
      "metadata": {
        "colab": {
          "base_uri": "https://localhost:8080/"
        },
        "id": "nli9YIb17jby",
        "outputId": "f6d0bb18-e3b3-47c3-b537-ad4355b4072f"
      },
      "outputs": [
        {
          "output_type": "execute_result",
          "data": {
            "text/plain": [
              "tensor([[1.4815, 4.6214, 2.1425, 6.1908],\n",
              "        [3.3470, 1.4424, 0.5746, 8.3498]])"
            ]
          },
          "metadata": {},
          "execution_count": 58
        }
      ],
      "source": [
        "# Subtract a random tensor of size 2x4 to m\n",
        "m - torch.rand(2, 4)"
      ]
    },
    {
      "cell_type": "code",
      "execution_count": 59,
      "metadata": {
        "colab": {
          "base_uri": "https://localhost:8080/"
        },
        "id": "v0QPbbr87jby",
        "outputId": "b35d9d5f-5b24-4f0f-f8bd-da6b52ac8516"
      },
      "outputs": [
        {
          "output_type": "execute_result",
          "data": {
            "text/plain": [
              "tensor([[0.9672, 3.8356, 1.2981, 3.5496],\n",
              "        [2.9941, 1.2722, 0.8890, 5.4501]])"
            ]
          },
          "metadata": {},
          "execution_count": 59
        }
      ],
      "source": [
        "# Multiply a random tensor of size 2x4 to m\n",
        "m * torch.rand(2, 4)"
      ]
    },
    {
      "cell_type": "code",
      "execution_count": 60,
      "metadata": {
        "colab": {
          "base_uri": "https://localhost:8080/"
        },
        "id": "wRxwhq3p7jby",
        "outputId": "b7569d2d-d0de-41f9-de50-c3e1df3bf98a"
      },
      "outputs": [
        {
          "output_type": "execute_result",
          "data": {
            "text/plain": [
              "tensor([[ 8.6028,  6.5180,  5.7836, 30.1305],\n",
              "        [ 9.9365, 18.5775,  1.1129, 12.5132]])"
            ]
          },
          "metadata": {},
          "execution_count": 60
        }
      ],
      "source": [
        "# Divide m by a random tensor of size 2x4\n",
        "m / torch.rand(2, 4)"
      ]
    },
    {
      "cell_type": "code",
      "execution_count": 61,
      "metadata": {
        "colab": {
          "base_uri": "https://localhost:8080/"
        },
        "id": "MFjUamkg7jby",
        "outputId": "9907f490-d8be-46c7-ba6f-68f2bf256ad8"
      },
      "outputs": [
        {
          "output_type": "execute_result",
          "data": {
            "text/plain": [
              "torch.Size([2, 4])"
            ]
          },
          "metadata": {},
          "execution_count": 61
        }
      ],
      "source": [
        "m.size()"
      ]
    },
    {
      "cell_type": "code",
      "execution_count": 62,
      "metadata": {
        "colab": {
          "base_uri": "https://localhost:8080/"
        },
        "id": "88uWT_-N7jbz",
        "outputId": "8bae8ea9-479f-4ab7-bb82-6a44c4250382"
      },
      "outputs": [
        {
          "output_type": "execute_result",
          "data": {
            "text/plain": [
              "tensor([[2., 4.],\n",
              "        [5., 2.],\n",
              "        [3., 1.],\n",
              "        [7., 9.]])"
            ]
          },
          "metadata": {},
          "execution_count": 62
        }
      ],
      "source": [
        "# Transpose tensor m, which is essentially 2x4 to 4x2\n",
        "m.t()"
      ]
    },
    {
      "cell_type": "code",
      "execution_count": 63,
      "metadata": {
        "colab": {
          "base_uri": "https://localhost:8080/"
        },
        "id": "hfx8uRtl7jbz",
        "outputId": "6d2652e0-cd73-4228-8618-385df278f63f"
      },
      "outputs": [
        {
          "output_type": "execute_result",
          "data": {
            "text/plain": [
              "tensor([[2., 4.],\n",
              "        [5., 2.],\n",
              "        [3., 1.],\n",
              "        [7., 9.]])"
            ]
          },
          "metadata": {},
          "execution_count": 63
        }
      ],
      "source": [
        "# Same as\n",
        "m.transpose(0, 1)"
      ]
    },
    {
      "cell_type": "markdown",
      "metadata": {
        "id": "3p2bHHeHJewn"
      },
      "source": [
        "## Broadcasting\n",
        "\n",
        "Two tensors are “broadcastable” if the following rules hold:\n",
        "\n",
        "*   Each tensor has at least one dimension.\n",
        "*   When iterating over the dimension sizes, starting at the trailing dimension, the dimension sizes must either be equal, one of them is 1, or one of them does not exist.\n"
      ]
    },
    {
      "cell_type": "code",
      "execution_count": 64,
      "metadata": {
        "id": "pPyg44mxJeHP"
      },
      "outputs": [],
      "source": [
        "x=torch.empty(5,7,3)\n",
        "y=torch.empty(5,7,3)\n",
        "# x and y are broadcastable since all dimensions are equal\n",
        "\n",
        "x=torch.empty((0,))\n",
        "y=torch.empty(2,2)\n",
        "# x and y are not broadcastable, because x does not have at least 1 dimension\n",
        "\n",
        "x=torch.empty(5,3,4,1)\n",
        "y=torch.empty(  3,1,1)\n",
        "# x and y are broadcastable.\n",
        "# 1st trailing dimension: both have size 1\n",
        "# 2nd trailing dimension: y has size 1\n",
        "# 3rd trailing dimension: x size == y size\n",
        "# 4th trailing dimension: y dimension doesn't exist\n",
        "\n",
        "# but:\n",
        "x=torch.empty(5,2,4,1)\n",
        "y=torch.empty(  3,1,1)\n",
        "# x and y are not broadcastable, because in the 3rd trailing dimension 2 != 3"
      ]
    },
    {
      "cell_type": "code",
      "execution_count": 65,
      "metadata": {
        "colab": {
          "base_uri": "https://localhost:8080/"
        },
        "id": "MpudbDP9MI4U",
        "outputId": "fab3d997-ebf3-4dc2-d034-07630e55d082"
      },
      "outputs": [
        {
          "output_type": "stream",
          "name": "stdout",
          "text": [
            "torch.Size([5, 3, 4, 1])\n",
            "torch.Size([3, 1, 7])\n"
          ]
        }
      ],
      "source": [
        "# How is the output dimension calculated?\n",
        "x=torch.empty(5,1,4,1)\n",
        "y=torch.empty(3,1,1)\n",
        "print((x+y).size())\n",
        "\n",
        "x=torch.empty(1)\n",
        "y=torch.empty(3,1,7)\n",
        "print((x+y).size())"
      ]
    },
    {
      "cell_type": "markdown",
      "metadata": {
        "id": "lpCZhT8U7jbz"
      },
      "source": [
        "## Constructors"
      ]
    },
    {
      "cell_type": "code",
      "execution_count": 66,
      "metadata": {
        "colab": {
          "base_uri": "https://localhost:8080/"
        },
        "id": "ZYn7XeYu7jbz",
        "outputId": "bfe0add1-a1e9-4cb0-bb4e-03a0019aa935"
      },
      "outputs": [
        {
          "output_type": "execute_result",
          "data": {
            "text/plain": [
              "tensor([3., 4., 5., 6., 7., 8.])"
            ]
          },
          "metadata": {},
          "execution_count": 66
        }
      ],
      "source": [
        "# Create tensor from 3 to 8\n",
        "torch.arange(3., 8 + 1)"
      ]
    },
    {
      "cell_type": "code",
      "execution_count": 67,
      "metadata": {
        "colab": {
          "base_uri": "https://localhost:8080/"
        },
        "id": "XH8X7Dts7jbz",
        "outputId": "02400cee-151c-4263-f4c6-ac50d74e8a03"
      },
      "outputs": [
        {
          "output_type": "execute_result",
          "data": {
            "text/plain": [
              "tensor([ 5.7000,  2.7000, -0.3000])"
            ]
          },
          "metadata": {},
          "execution_count": 67
        }
      ],
      "source": [
        "# Create tensor from 5.7 to -2.1 with step -3\n",
        "torch.arange(5.7, -2.1, -3)"
      ]
    },
    {
      "cell_type": "code",
      "execution_count": 68,
      "metadata": {
        "colab": {
          "base_uri": "https://localhost:8080/"
        },
        "id": "3B14Dyrn7jbz",
        "outputId": "07770856-8470-458b-d6f7-9409e3a73cde"
      },
      "outputs": [
        {
          "output_type": "execute_result",
          "data": {
            "text/plain": [
              "tensor([[3.0000, 3.2632, 3.5263, 3.7895, 4.0526, 4.3158, 4.5789, 4.8421, 5.1053,\n",
              "         5.3684, 5.6316, 5.8947, 6.1579, 6.4211, 6.6842, 6.9474, 7.2105, 7.4737,\n",
              "         7.7368, 8.0000]])"
            ]
          },
          "metadata": {},
          "execution_count": 68
        }
      ],
      "source": [
        "# returns a 1D tensor of equally spaced elements between start=3, end=8 and number of elements=20\n",
        "torch.linspace(3, 8, 20).view(1, -1)"
      ]
    },
    {
      "cell_type": "code",
      "execution_count": 69,
      "metadata": {
        "colab": {
          "base_uri": "https://localhost:8080/"
        },
        "id": "tb4KEmjU7jb0",
        "outputId": "08bf5806-ce87-40e4-e50d-e0df88347050"
      },
      "outputs": [
        {
          "output_type": "execute_result",
          "data": {
            "text/plain": [
              "tensor([[0., 0., 0., 0., 0.],\n",
              "        [0., 0., 0., 0., 0.],\n",
              "        [0., 0., 0., 0., 0.]])"
            ]
          },
          "metadata": {},
          "execution_count": 69
        }
      ],
      "source": [
        "# Create a tensor filled with 0's\n",
        "torch.zeros(3, 5)"
      ]
    },
    {
      "cell_type": "code",
      "execution_count": 70,
      "metadata": {
        "colab": {
          "base_uri": "https://localhost:8080/"
        },
        "id": "TrOxrng27jb0",
        "outputId": "aeca50f5-7cd0-4091-c9f6-53c83c7818ff"
      },
      "outputs": [
        {
          "output_type": "execute_result",
          "data": {
            "text/plain": [
              "tensor([[[1., 1., 1., 1., 1.],\n",
              "         [1., 1., 1., 1., 1.]],\n",
              "\n",
              "        [[1., 1., 1., 1., 1.],\n",
              "         [1., 1., 1., 1., 1.]],\n",
              "\n",
              "        [[1., 1., 1., 1., 1.],\n",
              "         [1., 1., 1., 1., 1.]]])"
            ]
          },
          "metadata": {},
          "execution_count": 70
        }
      ],
      "source": [
        "# Create a tensor filled with 1's\n",
        "torch.ones(3, 2, 5)"
      ]
    },
    {
      "cell_type": "code",
      "execution_count": 71,
      "metadata": {
        "colab": {
          "base_uri": "https://localhost:8080/"
        },
        "id": "xt6VUo1A7jb0",
        "outputId": "e8d3f0e0-50ab-40e3-eb91-7c86a768fb6e"
      },
      "outputs": [
        {
          "output_type": "execute_result",
          "data": {
            "text/plain": [
              "tensor([[1., 0., 0.],\n",
              "        [0., 1., 0.],\n",
              "        [0., 0., 1.]])"
            ]
          },
          "metadata": {},
          "execution_count": 71
        }
      ],
      "source": [
        "# Create a tensor with the diagonal filled with 1\n",
        "torch.eye(3)"
      ]
    },
    {
      "cell_type": "code",
      "execution_count": 72,
      "metadata": {
        "id": "oDCnuhOf7jb0"
      },
      "outputs": [],
      "source": [
        "from matplotlib import pyplot as plt\n",
        "plt.rcParams[\"figure.figsize\"] = (20,10)"
      ]
    },
    {
      "cell_type": "code",
      "execution_count": 73,
      "metadata": {
        "colab": {
          "base_uri": "https://localhost:8080/",
          "height": 475
        },
        "id": "81dgFtq67jb0",
        "outputId": "04bccbc9-76ed-4e85-c95b-2abb7174468b"
      },
      "outputs": [
        {
          "output_type": "display_data",
          "data": {
            "text/plain": [
              "<Figure size 2000x1000 with 1 Axes>"
            ],
            "image/png": "[encoded data removed]"
          },
          "metadata": {}
        }
      ],
      "source": [
        "# Numpy bridge!\n",
        "plt.hist(torch.randn(1000).numpy(), 100);"
      ]
    },
    {
      "cell_type": "code",
      "execution_count": 74,
      "metadata": {
        "colab": {
          "base_uri": "https://localhost:8080/",
          "height": 468
        },
        "id": "pBhx09297jb1",
        "outputId": "167e45ee-3987-425c-a9b2-2e8055ef5bde"
      },
      "outputs": [
        {
          "output_type": "display_data",
          "data": {
            "text/plain": [
              "<Figure size 2000x1000 with 1 Axes>"
            ],
            "image/png": "[encoded data removed]"
          },
          "metadata": {}
        }
      ],
      "source": [
        "plt.hist(torch.randn(10**6).numpy(), 100);"
      ]
    },
    {
      "cell_type": "markdown",
      "metadata": {
        "id": "SyeN3wTV7jb1"
      },
      "source": [
        "## Casting"
      ]
    },
    {
      "cell_type": "code",
      "execution_count": 75,
      "metadata": {
        "id": "MxMGbcNP7jb1"
      },
      "outputs": [],
      "source": [
        "# Helper to get what kind of tensor types\n",
        "torch.*Tensor?"
      ]
    },
    {
      "cell_type": "code",
      "execution_count": 76,
      "metadata": {
        "colab": {
          "base_uri": "https://localhost:8080/"
        },
        "id": "-6pXTH4b7jb1",
        "outputId": "dbb4342e-7c39-4bb9-df3b-3067ea827b22"
      },
      "outputs": [
        {
          "output_type": "execute_result",
          "data": {
            "text/plain": [
              "tensor([[2., 5., 3., 7.],\n",
              "        [4., 2., 1., 9.]])"
            ]
          },
          "metadata": {},
          "execution_count": 76
        }
      ],
      "source": [
        "m = torch.Tensor([[2, 5, 3, 7],\n",
        "                  [4, 2, 1, 9]])\n",
        "m"
      ]
    },
    {
      "cell_type": "code",
      "execution_count": 77,
      "metadata": {
        "colab": {
          "base_uri": "https://localhost:8080/"
        },
        "id": "3TAG0hTN7jb2",
        "outputId": "87d0bd87-7658-4596-938b-7be4acf53177"
      },
      "outputs": [
        {
          "output_type": "execute_result",
          "data": {
            "text/plain": [
              "tensor([[2., 5., 3., 7.],\n",
              "        [4., 2., 1., 9.]], dtype=torch.float64)"
            ]
          },
          "metadata": {},
          "execution_count": 77
        }
      ],
      "source": [
        "# This is basically a 64 bit float tensor\n",
        "m_double = m.double()\n",
        "m_double"
      ]
    },
    {
      "cell_type": "code",
      "execution_count": 78,
      "metadata": {
        "colab": {
          "base_uri": "https://localhost:8080/"
        },
        "id": "hFe9nMZi7jb2",
        "outputId": "a08b329b-060e-4fdc-b108-af81d89dc937"
      },
      "outputs": [
        {
          "output_type": "execute_result",
          "data": {
            "text/plain": [
              "tensor([[2, 5, 3, 7],\n",
              "        [4, 2, 1, 9]], dtype=torch.uint8)"
            ]
          },
          "metadata": {},
          "execution_count": 78
        }
      ],
      "source": [
        "# This creates a tensor of type int8\n",
        "m_byte = m.byte()\n",
        "m_byte"
      ]
    },
    {
      "cell_type": "code",
      "execution_count": 79,
      "metadata": {
        "colab": {
          "base_uri": "https://localhost:8080/"
        },
        "id": "FSVzhX_I7jb2",
        "outputId": "45b02070-4258-4fc5-82f0-76f6effb60bf"
      },
      "outputs": [
        {
          "output_type": "execute_result",
          "data": {
            "text/plain": [
              "array([[2., 5., 3., 7.],\n",
              "       [4., 2., 1., 9.]], dtype=float32)"
            ]
          },
          "metadata": {},
          "execution_count": 79
        }
      ],
      "source": [
        "# Converts tensor to numpy array\n",
        "m_np = m.numpy()\n",
        "m_np"
      ]
    },
    {
      "cell_type": "code",
      "execution_count": 80,
      "metadata": {
        "colab": {
          "base_uri": "https://localhost:8080/"
        },
        "id": "BHfSv9BB7jb2",
        "outputId": "15259c21-961a-4e67-85c8-bc13a13b9234"
      },
      "outputs": [
        {
          "output_type": "execute_result",
          "data": {
            "text/plain": [
              "array([[-1.,  5.,  3.,  7.],\n",
              "       [ 4.,  2.,  1.,  9.]], dtype=float32)"
            ]
          },
          "metadata": {},
          "execution_count": 80
        }
      ],
      "source": [
        "# In-place fill of column 0 and row 0 with value -1\n",
        "m_np[0, 0] = -1\n",
        "m_np"
      ]
    },
    {
      "cell_type": "code",
      "execution_count": 81,
      "metadata": {
        "colab": {
          "base_uri": "https://localhost:8080/"
        },
        "id": "ICAeMZLU7jb3",
        "outputId": "d0df655f-6047-4ec7-cd84-feb4da174ab5"
      },
      "outputs": [
        {
          "output_type": "execute_result",
          "data": {
            "text/plain": [
              "tensor([[-1.,  5.,  3.,  7.],\n",
              "        [ 4.,  2.,  1.,  9.]])"
            ]
          },
          "metadata": {},
          "execution_count": 81
        }
      ],
      "source": [
        "m"
      ]
    },
    {
      "cell_type": "code",
      "execution_count": 82,
      "metadata": {
        "colab": {
          "base_uri": "https://localhost:8080/"
        },
        "id": "CStd3ORV7jb3",
        "outputId": "a55a8f51-2b1b-46fc-f585-ec1e7b5bab4d"
      },
      "outputs": [
        {
          "output_type": "stream",
          "name": "stdout",
          "text": [
            "[0 1 2 3 4] tensor([0, 1, 2, 3, 4])\n"
          ]
        }
      ],
      "source": [
        "# Create a tensor of integers ranging from 0 to 4\n",
        "import numpy as np\n",
        "n_np = np.arange(5)\n",
        "n = torch.from_numpy(n_np)\n",
        "print(n_np, n)"
      ]
    },
    {
      "cell_type": "code",
      "execution_count": 83,
      "metadata": {
        "colab": {
          "base_uri": "https://localhost:8080/"
        },
        "id": "3gGi0E-h7jb3",
        "outputId": "6744554c-64d1-408d-d4f2-7400b30a8fd5"
      },
      "outputs": [
        {
          "output_type": "execute_result",
          "data": {
            "text/plain": [
              "array([0, 2, 4, 6, 8])"
            ]
          },
          "metadata": {},
          "execution_count": 83
        }
      ],
      "source": [
        "# In-place multiplication of all elements by 2 for tensor n\n",
        "n.mul_(2)\n",
        "n_np"
      ]
    },
    {
      "cell_type": "markdown",
      "metadata": {
        "id": "9yGGuawb7jb3"
      },
      "source": [
        "## Using the GPU"
      ]
    },
    {
      "cell_type": "code",
      "execution_count": 84,
      "metadata": {
        "id": "V3cSABmzDda2"
      },
      "outputs": [],
      "source": [
        "# If this cell fails you need to change the runtime of your colab notebook to GPU\n",
        "# Go to Runtime -> Change Runtime Type and select GPU\n",
        "assert torch.cuda.is_available(), \"GPU is not enabled\"\n",
        "\n",
        "# use the first gpu available if possible\n",
        "device = torch.device(\"cuda:0\" if torch.cuda.is_available() else \"cpu\")"
      ]
    },
    {
      "cell_type": "code",
      "execution_count": 85,
      "metadata": {
        "colab": {
          "base_uri": "https://localhost:8080/"
        },
        "id": "2rQvVYDMFIAW",
        "outputId": "b9e335da-c772-42b9-e79a-0ddba32b0c17"
      },
      "outputs": [
        {
          "output_type": "stream",
          "name": "stdout",
          "text": [
            "tensor's device: cpu\n",
            "tensor's device: cuda:0\n"
          ]
        }
      ],
      "source": [
        "# Tensors can be moved between gpu and cpu memory\n",
        "\n",
        "tensor = torch.randn(5, 5) # create a 5x5 matrix filled with random numbers\n",
        "print(f\"tensor's device: {tensor.device}\") # by default tensors are stored in cpu memory (RAM)\n",
        "\n",
        "# Move your tensor to GPU device 0 if there is one (first GPU in the system)\n",
        "if torch.cuda.is_available():\n",
        "    tensor = tensor.to(device) # tensor.cuda() is an alternative although not recommended\n",
        "print(f\"tensor's device: {tensor.device}\")"
      ]
    },
    {
      "cell_type": "code",
      "execution_count": 86,
      "metadata": {
        "colab": {
          "base_uri": "https://localhost:8080/",
          "height": 193
        },
        "id": "ccZpZ5xzZ8Sy",
        "outputId": "8b336e6e-8513-4801-9b16-c4c7ab249a02"
      },
      "outputs": [
        {
          "output_type": "error",
          "ename": "RuntimeError",
          "evalue": "Expected all tensors to be on the same device, but found at least two devices, cuda:0 and cpu!",
          "traceback": [
            "\u001b[0;31m---------------------------------------------------------------------------\u001b[0m",
            "\u001b[0;31mRuntimeError\u001b[0m                              Traceback (most recent call last)",
            "\u001b[0;32m<ipython-input-86-4e23d4f2d287>\u001b[0m in \u001b[0;36m<cell line: 7>\u001b[0;34m()\u001b[0m\n\u001b[1;32m      5\u001b[0m \u001b[0;31m# This throws an exception, since you can't operate on tensors stored in\u001b[0m\u001b[0;34m\u001b[0m\u001b[0;34m\u001b[0m\u001b[0m\n\u001b[1;32m      6\u001b[0m \u001b[0;31m# different devices, and the error message is pretty clear about that\u001b[0m\u001b[0;34m\u001b[0m\u001b[0;34m\u001b[0m\u001b[0m\n\u001b[0;32m----> 7\u001b[0;31m \u001b[0mc\u001b[0m \u001b[0;34m=\u001b[0m \u001b[0ma\u001b[0m \u001b[0;34m*\u001b[0m \u001b[0mb\u001b[0m\u001b[0;34m\u001b[0m\u001b[0;34m\u001b[0m\u001b[0m\n\u001b[0m",
            "\u001b[0;31mRuntimeError\u001b[0m: Expected all tensors to be on the same device, but found at least two devices, cuda:0 and cpu!"
          ]
        }
      ],
      "source": [
        "# A common mistake\n",
        "a = torch.randn(5, 2, device=device)\n",
        "b = torch.randn(1, 2)\n",
        "\n",
        "# This throws an exception, since you can't operate on tensors stored in\n",
        "# different devices, and the error message is pretty clear about that\n",
        "c = a * b"
      ]
    },
    {
      "cell_type": "markdown",
      "metadata": {
        "id": "x59Bo0QnEUOU"
      },
      "source": [
        "# Gradient Computation\n",
        "\n"
      ]
    },
    {
      "cell_type": "code",
      "execution_count": 87,
      "metadata": {
        "colab": {
          "base_uri": "https://localhost:8080/"
        },
        "id": "H25IsxuRKlry",
        "outputId": "374014eb-8ce3-40a8-dc6b-1683d0ba8e9d"
      },
      "outputs": [
        {
          "output_type": "stream",
          "name": "stdout",
          "text": [
            "Gradient of a with respecto to L: tensor([36., 81.])\n"
          ]
        }
      ],
      "source": [
        "# Tensors also track the operations applied on them in order to differentiate them\n",
        "\n",
        "# setting requires_grad to true tells the autograd engine that we want to compute\n",
        "# gradients for this tensor\n",
        "a = torch.tensor([2., 3.], requires_grad=True)\n",
        "\n",
        "L = 3*a**3\n",
        "L.sum().backward()\n",
        "print(f\"Gradient of a with respecto to L: {a.grad}\")"
      ]
    },
    {
      "cell_type": "markdown",
      "metadata": {
        "id": "QnviODjmRdKC"
      },
      "source": [
        "Lets check if the computed gradients are correct:\n",
        "\n",
        "$\\frac{\\partial{L}}{\\partial{a}} = [9 * a_1^2, 9 * a_2^2]$\n",
        "\n",
        "$\\frac{\\partial{L}}{\\partial{a}} = [9 * 2^2, 9 * 3^2]$\n",
        "\n",
        "$\\frac{\\partial{L}}{\\partial{a}} = [36, 81]$\n",
        "\n",
        "As we can see the gradient vector matches the one computed by the autograd engine (no surprise there)"
      ]
    },
    {
      "cell_type": "code",
      "execution_count": 88,
      "metadata": {
        "colab": {
          "base_uri": "https://localhost:8080/"
        },
        "id": "61qpDwtvU_E8",
        "outputId": "da42e8e2-a407-49c2-ea74-8a479818ba5e"
      },
      "outputs": [
        {
          "output_type": "stream",
          "name": "stdout",
          "text": [
            "Does a require gradients? : False\n",
            "Does b require gradients?: True\n"
          ]
        }
      ],
      "source": [
        "# Notice that the output tensor of an operation will require gradients even\n",
        "# if only a single input tensor has requires_grad=True.\n",
        "\n",
        "x = torch.rand(5, 5)\n",
        "y = torch.rand(5, 5)\n",
        "z = torch.rand((5, 5), requires_grad=True)\n",
        "\n",
        "a = x + y\n",
        "print(f\"Does a require gradients? : {a.requires_grad}\")\n",
        "b = x + z\n",
        "print(f\"Does b require gradients?: {b.requires_grad}\")"
      ]
    },
    {
      "cell_type": "markdown",
      "metadata": {
        "id": "Wq_YCBR4yIYI"
      },
      "source": [
        "# Autograd with Pytorch: Repeat previous exercise"
      ]
    },
    {
      "cell_type": "markdown",
      "metadata": {
        "id": "RsBFjVXQO_jA"
      },
      "source": [
        "\n",
        "```\n",
        "# This is formatted as code\n",
        "```\n",
        "\n",
        "Let's repeat with PyTorch one of the gradient calculations what we already did before outselves (with our own auto-differentiation engine):"
      ]
    },
    {
      "cell_type": "code",
      "execution_count": 89,
      "metadata": {
        "colab": {
          "base_uri": "https://localhost:8080/"
        },
        "id": "uN2Jff2gyIYI",
        "outputId": "05a05146-7626-4285-9e00-5eff9bfe0f77"
      },
      "outputs": [
        {
          "output_type": "stream",
          "name": "stdout",
          "text": [
            "Result = tensor(28., grad_fn=<MulBackward0>)\n"
          ]
        }
      ],
      "source": [
        "a = torch.tensor(4.0, requires_grad = True)  # a = 4\n",
        "b = torch.tensor(3.0, requires_grad = True)  # b = 3\n",
        "c = a + b        # c = 4 + 3\n",
        "\n",
        "res = a * c      # res = a * c = 28\n",
        "\n",
        "print(\"Result =\", res)"
      ]
    },
    {
      "cell_type": "markdown",
      "metadata": {
        "id": "9hfDIYY5yIYJ"
      },
      "source": [
        "See the warning that the next cell will produce:"
      ]
    },
    {
      "cell_type": "code",
      "execution_count": 90,
      "metadata": {
        "colab": {
          "base_uri": "https://localhost:8080/"
        },
        "id": "cwt2meXeyIYJ",
        "outputId": "b5b66419-8253-4553-cf34-cbf62514bf3b"
      },
      "outputs": [
        {
          "output_type": "stream",
          "name": "stdout",
          "text": [
            "The derivative of the result with respect to a is: tensor(11.)\n",
            "The derivative of the result with respect to b is: tensor(4.)\n",
            "The derivative of the result with respect to c is: None\n"
          ]
        },
        {
          "output_type": "stream",
          "name": "stderr",
          "text": [
            "<ipython-input-90-46824604471b>:8: UserWarning: The .grad attribute of a Tensor that is not a leaf Tensor is being accessed. Its .grad attribute won't be populated during autograd.backward(). If you indeed want the .grad field to be populated for a non-leaf Tensor, use .retain_grad() on the non-leaf Tensor. If you access the non-leaf Tensor by mistake, make sure you access the leaf Tensor instead. See github.com/pytorch/pytorch/pull/30531 for more informations. (Triggered internally at aten/src/ATen/core/TensorBody.h:489.)\n",
            "  print(\"The derivative of the result with respect to c is:\", c.grad)\n"
          ]
        }
      ],
      "source": [
        "# Call backprop on the result\n",
        "res.backward()\n",
        "\n",
        "# Now all variables should contain in their \"grad\" the derivative d(res) / d(variable)\n",
        "print(\"The derivative of the result with respect to a is:\", a.grad)\n",
        "print(\"The derivative of the result with respect to b is:\", b.grad)\n",
        "# Also for intermediate results\n",
        "print(\"The derivative of the result with respect to c is:\", c.grad)"
      ]
    },
    {
      "cell_type": "markdown",
      "metadata": {
        "id": "chEBBK46yIYJ"
      },
      "source": [
        "There are three different things to understand here. PyTorch by default only calculates gradients for the leaf nodes of the computation graph. To do that, all nodes that are necessary for the computation require their gradient to be computed, but the gradient is not maintained, they do not have a `grad` variable. We can ask PyTorch to create a `grad` variable and save the gradient in these intermediate nodes though, if for some reason we are interested in accessing it."
      ]
    },
    {
      "cell_type": "code",
      "execution_count": 91,
      "metadata": {
        "colab": {
          "base_uri": "https://localhost:8080/"
        },
        "id": "GB3ybQNhyIYJ",
        "outputId": "670a3a0c-044c-4595-b035-76965d2c821a"
      },
      "outputs": [
        {
          "output_type": "execute_result",
          "data": {
            "text/plain": [
              "True"
            ]
          },
          "metadata": {},
          "execution_count": 91
        }
      ],
      "source": [
        "c.requires_grad"
      ]
    },
    {
      "cell_type": "code",
      "execution_count": 92,
      "metadata": {
        "colab": {
          "base_uri": "https://localhost:8080/"
        },
        "id": "XO5g_uAXyIYK",
        "outputId": "9e9d691e-3244-44fe-88ec-d434723bde8c"
      },
      "outputs": [
        {
          "output_type": "execute_result",
          "data": {
            "text/plain": [
              "False"
            ]
          },
          "metadata": {},
          "execution_count": 92
        }
      ],
      "source": [
        "c.retains_grad"
      ]
    },
    {
      "cell_type": "code",
      "execution_count": 93,
      "metadata": {
        "colab": {
          "base_uri": "https://localhost:8080/"
        },
        "id": "_xyteFnUyIYK",
        "outputId": "bc2aa142-c417-4189-f799-fa6b80a93a79"
      },
      "outputs": [
        {
          "output_type": "execute_result",
          "data": {
            "text/plain": [
              "False"
            ]
          },
          "metadata": {},
          "execution_count": 93
        }
      ],
      "source": [
        "c.is_leaf"
      ]
    },
    {
      "cell_type": "code",
      "execution_count": 94,
      "metadata": {
        "colab": {
          "base_uri": "https://localhost:8080/"
        },
        "id": "QxPwYuI3yIYK",
        "outputId": "c4a7fce5-9975-4713-a525-fb148cf4cb10"
      },
      "outputs": [
        {
          "output_type": "stream",
          "name": "stdout",
          "text": [
            "Requires Grad: True\tRetains Grad: True\tIs leaf: False\n"
          ]
        }
      ],
      "source": [
        "c.retain_grad()\n",
        "\n",
        "print(f\"Requires Grad: {c.requires_grad}\\tRetains Grad: {c.retains_grad}\\tIs leaf: {c.is_leaf}\")"
      ]
    },
    {
      "cell_type": "code",
      "execution_count": 95,
      "metadata": {
        "colab": {
          "base_uri": "https://localhost:8080/"
        },
        "id": "b1uxcO-1yIYK",
        "outputId": "c485efb8-4687-48e6-8723-919b1da92da8"
      },
      "outputs": [
        {
          "output_type": "stream",
          "name": "stdout",
          "text": [
            "Result = tensor(28., grad_fn=<MulBackward0>)\n",
            "The derivative of the result with respect to a is: tensor(11.)\n",
            "The derivative of the result with respect to b is: tensor(4.)\n",
            "The derivative of the result with respect to c is: tensor(4.)\n"
          ]
        }
      ],
      "source": [
        "a = torch.tensor(4.0, requires_grad = True)  # a = 4\n",
        "b = torch.tensor(3.0, requires_grad = True)  # b = 3\n",
        "c = a + b        # c = 4 + 3\n",
        "c.retain_grad()\n",
        "\n",
        "res = a * c      # res = a * c = 28\n",
        "\n",
        "print(\"Result =\", res)\n",
        "\n",
        "# Call backprop on the result\n",
        "res.backward()\n",
        "\n",
        "# Now all variables should contain in their \"grad\" the derivative d(res) / d(variable)\n",
        "print(\"The derivative of the result with respect to a is:\", a.grad)\n",
        "print(\"The derivative of the result with respect to b is:\", b.grad)\n",
        "# Also for intermediate results\n",
        "print(\"The derivative of the result with respect to c is:\", c.grad)"
      ]
    },
    {
      "cell_type": "markdown",
      "metadata": {
        "id": "o-_70bB17jb4"
      },
      "source": [
        "## Much more\n",
        "\n",
        "There's definitely much more, but this was the basics about `Tensor`s fun.\n",
        "\n",
        "*Torch* full API can be found [here](https://pytorch.org/docs/stable/index.html).\n",
        "You'll find 100+ `Tensor` operations, including transposing, indexing, slicing, mathematical operations, linear algebra, random numbers, etc are described."
      ]
    },
    {
      "cell_type": "markdown",
      "metadata": {
        "id": "8Xl6U-RoEtY3"
      },
      "source": [
        "# Homework\n",
        "\n",
        "<font color=\"blue\">**Exercise 1:** The code below simulates a tiny neural network, however it throws an exception. As you build neural networks in PyTorch you will see this exception often. Look at the error message, explain whats happening and make the necessary changes to the code to get an output from this tiny network</font>"
      ]
    },
    {
      "cell_type": "code",
      "execution_count": 96,
      "metadata": {
        "id": "5aGsG2MMGebg",
        "outputId": "065cc70e-b356-47b3-833d-cec2786d2dbc",
        "colab": {
          "base_uri": "https://localhost:8080/"
        }
      },
      "outputs": [
        {
          "output_type": "stream",
          "name": "stdout",
          "text": [
            "tensor([[-1.6619]])\n",
            "torch.Size([1, 1]) torch.Size([1, 1])\n"
          ]
        }
      ],
      "source": [
        "### Generate some data\n",
        "torch.manual_seed(7) # Set the random seed so things are predictable\n",
        "\n",
        "# Features are 5 random normal variables\n",
        "features = torch.randn((1, 5))\n",
        "# True weights for our data, random normal variables again\n",
        "weights = torch.torch.randn_like(features).T\n",
        "# and a true bias term\n",
        "bias = torch.randn((1, 1))\n",
        "fts = torch.mm(features, weights)\n",
        "print(fts + bias)\n",
        "print(fts.shape, bias.shape)"
      ]
    },
    {
      "cell_type": "markdown",
      "metadata": {
        "id": "V4ztiyhkQh4H"
      },
      "source": [
        "As torch.mm performs matrix multiplication the shapes 1,5 and 1,5 are unmultipliable, we needed to perform the Transpose by doing .T or either rewrite it as shape 5,1."
      ]
    },
    {
      "cell_type": "markdown",
      "metadata": {
        "id": "xoV3PxbRyIYY"
      },
      "source": [
        "<font color=\"blue\">**Exercise 2:** Once you manage to sucessfully run the code above notice how the shape of the tensors ```fts``` and ```bias``` are drastically different, yet they can be added together. Which internal PyTorch mechanism makes this addition happen?</font>"
      ]
    },
    {
      "cell_type": "markdown",
      "metadata": {
        "id": "yZrd2J_WyIYY"
      },
      "source": [
        "---\n",
        "\n",
        "Broadcasting. Even if they dont have the same shape by having at least one dimension or their dimensions to either be equal, one of them is 1, or one of them does not exist.\n",
        "\n",
        "\n",
        "---"
      ]
    },
    {
      "cell_type": "markdown",
      "metadata": {
        "id": "R8N-hhzmQZaA"
      },
      "source": [
        "# More Homework\n",
        "\n",
        "<font color=\"blue\">**Exercise 3:** Answer the following questions about the cell below</font>\n",
        "\n",
        "1. Does the value of ```t``` change? Why?\n",
        "2. Does the shape of ```t``` change? Why?\n",
        "3. Explain, in your own words. What is the stride of a tensor, why is it convenient to have them?\n",
        "4.  Pick a mathematical operation like cosine or square root (not those though 🙂). Can you find the correspoding function in the [torch library](https://https://pytorch.org/docs/stable/torch.html#pointwise-ops).\n",
        "5. Apply the function element-wise to ```a```.\n",
        "6. Is there a version of the function that operates in place? Does it return an error? Why? How can it be fixed?\n",
        "7. Run the same function on the GPU. Do you notice any difference in runtime? If not, why do you think that is?"
      ]
    },
    {
      "cell_type": "code",
      "execution_count": 97,
      "metadata": {
        "id": "__SC70eiXYn1",
        "outputId": "ef88ad66-2f51-4fc1-eb7e-4d62bd170632",
        "colab": {
          "base_uri": "https://localhost:8080/"
        }
      },
      "outputs": [
        {
          "output_type": "stream",
          "name": "stdout",
          "text": [
            "tensor([0, 1, 2, 3, 4, 5, 6, 7, 8])\n",
            "Shape of t before the operation torch.Size([9])\n",
            "Shape of a before the operation torch.Size([3, 3])\n",
            "tensor([[ 0.,  2.,  4.],\n",
            "        [ 6.,  8., 10.],\n",
            "        [12., 14., 16.]])\n",
            "Shape of t after the operation torch.Size([9])\n",
            "Shape of a after the operation torch.Size([3, 3])\n"
          ]
        }
      ],
      "source": [
        "t = torch.tensor(list(range(9)))\n",
        "print(t)\n",
        "print(\"Shape of t before the operation\",t.shape)\n",
        "\n",
        "a = t.view(3, 3).float()\n",
        "print(\"Shape of a before the operation\", a.shape)\n",
        "print(a.mul_(2))\n",
        "\n",
        "print(\"Shape of t after the operation\",t.shape)\n",
        "print(\"Shape of a after the operation\", a.shape)\n",
        "\n"
      ]
    },
    {
      "cell_type": "markdown",
      "metadata": {
        "id": "-FO6-KsBQh4I"
      },
      "source": [
        "1 & 2. No, t does not change as it is an in place operation its values dont change. And its shape is affected only on a. The shape of t before and after the operation is torch.Size([9])\n"
      ]
    },
    {
      "cell_type": "markdown",
      "metadata": {
        "id": "5S45br44Qh4I"
      },
      "source": [
        "3. The stride of a tensor is the number of elements in every dimension that needs to be skipped to go to the next dimension. It is good to have them as they allow to manipulate multidimentional data without having to rearrange it."
      ]
    },
    {
      "cell_type": "code",
      "execution_count": 98,
      "metadata": {
        "id": "45M5iX3oyIYZ",
        "colab": {
          "base_uri": "https://localhost:8080/"
        },
        "outputId": "137a2c07-a10b-4e67-e915-410a78069c7b"
      },
      "outputs": [
        {
          "output_type": "execute_result",
          "data": {
            "text/plain": [
              "tensor([[ 0.0000,  0.9093, -0.7568],\n",
              "        [-0.2794,  0.9894, -0.5440],\n",
              "        [-0.5366,  0.9906, -0.2879]])"
            ]
          },
          "metadata": {},
          "execution_count": 98
        }
      ],
      "source": [
        "# 4,5 Operations: Sine\n",
        "torch.sin(a)"
      ]
    },
    {
      "cell_type": "code",
      "execution_count": 101,
      "metadata": {
        "colab": {
          "base_uri": "https://localhost:8080/"
        },
        "id": "0SFJ_rIJQh4I",
        "outputId": "2e73b115-bd33-43c6-85e8-9b27ccbd866a"
      },
      "outputs": [
        {
          "output_type": "stream",
          "name": "stdout",
          "text": [
            "tensor([[ 0.0000,  0.7097, -0.6339],\n",
            "        [-0.2723,  0.7417, -0.4948],\n",
            "        [-0.4892,  0.7422, -0.2801]])\n",
            "Runtime (secs): 0.0019805431365966797\n"
          ]
        }
      ],
      "source": [
        "# 6 There exists torch.sin_(a) to perform and in place operation.\n",
        "#I needed to change the data type to float\n",
        "\n",
        "import time\n",
        "timevar = time.time()\n",
        "print(torch.sin_(a))\n",
        "print(\"Runtime (secs):\", time.time() - timevar)"
      ]
    },
    {
      "cell_type": "code",
      "execution_count": 108,
      "metadata": {
        "colab": {
          "base_uri": "https://localhost:8080/"
        },
        "id": "uWJMgYc2Qh4I",
        "outputId": "fecb55f9-5398-4746-86c2-341180173156"
      },
      "outputs": [
        {
          "output_type": "stream",
          "name": "stdout",
          "text": [
            "tensor's device: cuda:0\n",
            "tensor([[ 0.0000,  0.4915, -0.4654],\n",
            "        [-0.2539,  0.5011, -0.4026],\n",
            "        [-0.3996,  0.5012, -0.2602]], device='cuda:0')\n",
            "Runtime (secs): 0.004487276077270508\n"
          ]
        }
      ],
      "source": [
        "# 7 GPU & Runtime\n",
        "\n",
        "timevar2 = time.time()\n",
        "a = a.cuda()\n",
        "print(f\"tensor's device: {a.device}\")\n",
        "print(torch.sin_(a))\n",
        "\n",
        "print(\"Runtime (secs):\", time.time() - timevar2)"
      ]
    },
    {
      "cell_type": "markdown",
      "metadata": {
        "id": "zumUeENjQh4I"
      },
      "source": [
        "I don't think I noticed any difference as an operation such as sin_ is not computationally complex on a 1D tensor."
      ]
    }
  ],
  "metadata": {
    "accelerator": "GPU",
    "colab": {
      "gpuType": "T4",
      "provenance": []
    },
    "kernelspec": {
      "display_name": "Python 3",
      "name": "python3"
    },
    "language_info": {
      "codemirror_mode": {
        "name": "ipython",
        "version": 3
      },
      "file_extension": ".py",
      "mimetype": "text/x-python",
      "name": "python",
      "nbconvert_exporter": "python",
      "pygments_lexer": "ipython3",
      "version": "3.10.13"
    }
  },
  "nbformat": 4,
  "nbformat_minor": 0
}