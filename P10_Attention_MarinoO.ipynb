{
  "cells": [
    {
      "cell_type": "markdown",
      "metadata": {
        "id": "-JGr-h1xvTOZ"
      },
      "source": [
        "# MNIST Simple Pointer Network\n",
        "\n",
        "In this notebook we will learn how to create a simple [Pointer Network](https://arxiv.org/abs/1506.03134) (Vinyals et al. 2015) for solving a dummy task on the MNIST dataset.\n",
        "\n",
        "A Pointer Network uses the **attention mechanism’s** output to model the conditional probability of each element on its input. This can be extremely useful in tasks that require selecting one (or more) elements of the input sequence/set to be solved.\n",
        "\n",
        "In this notebook we will play with a simple Pointer net to solve the following task: Given an MNIST image with a (query) digit we want our model to find the image that contains the consecutive digit to the query image among a set of input images. For example, imagine we use an image with the digit \"5\" as query and let the input of the model be a set of 10 images with different digits, the output of our model must be a probability distribution over those 10 images indicating the presence or not of the digit \"6\" in each of them."
      ]
    },
    {
      "cell_type": "markdown",
      "source": [
        "Marino Oliveros Blanco NIU: 1668563"
      ],
      "metadata": {
        "id": "9bo70IdZ5gkq"
      }
    },
    {
      "cell_type": "code",
      "execution_count": 22,
      "metadata": {
        "colab": {
          "base_uri": "https://localhost:8080/"
        },
        "id": "h4Z7-Wm7_5K6",
        "outputId": "fb4d5bc1-4a7a-4361-f934-88e761fbcbab"
      },
      "outputs": [
        {
          "output_type": "stream",
          "name": "stdout",
          "text": [
            "PyTorch Version:  2.2.1+cu121\n"
          ]
        }
      ],
      "source": [
        "import torch\n",
        "import torchvision\n",
        "import torch.nn as nn\n",
        "import torch.optim as optim\n",
        "import numpy as np\n",
        "from torch.utils.data import Dataset, DataLoader\n",
        "\n",
        "import matplotlib.pyplot as plt\n",
        "from collections import Counter\n",
        "import time\n",
        "import os\n",
        "import copy\n",
        "print(\"PyTorch Version: \",torch.__version__)"
      ]
    },
    {
      "cell_type": "code",
      "execution_count": 23,
      "metadata": {
        "id": "RNJh2q4lQGYF",
        "colab": {
          "base_uri": "https://localhost:8080/"
        },
        "outputId": "8b8098cb-9235-41f5-9946-7824c56b61a5"
      },
      "outputs": [
        {
          "output_type": "stream",
          "name": "stdout",
          "text": [
            "Using device: cuda\n"
          ]
        }
      ],
      "source": [
        "#If this cell fails you need to change the runtime of your colab notebook to GPU\n",
        "# Go to Runtime -> Change Runtime Type and select GPU\n",
        "assert torch.cuda.is_available(), \"GPU is not enabled\"\n",
        "\n",
        "#  use gpu if available\n",
        "device = torch.device(\"cuda\" if torch.cuda.is_available() else \"cpu\")\n",
        "print(\"Using device:\", device)"
      ]
    },
    {
      "cell_type": "markdown",
      "metadata": {
        "id": "CyM0DXter9Mp"
      },
      "source": [
        "### Create the dataset\n",
        "\n",
        "Let's start creating a Dataset class to understand better the task we want to solve. Each sample in out dataset will be formed by:\n",
        "\n",
        "* a query image\n",
        "* a set of 10 images, 9 of them selected randomly (distractors) and one selected as the consecutive digit of the digit in the query image.\n",
        "* the ground truth: a 10-D one hot vector indicating the position of the image we want our model to select (\"point to\")."
      ]
    },
    {
      "cell_type": "code",
      "execution_count": 24,
      "metadata": {
        "id": "XksdVS7GHWw0"
      },
      "outputs": [],
      "source": [
        "class MNISTAttentionDataset(Dataset):\n",
        "    \"\"\"MNIST attention toy dataset.\"\"\"\n",
        "\n",
        "    def __init__(self, num_inputs, train=True):\n",
        "        \"\"\"\n",
        "        Args:\n",
        "            num_inputs (int) - The number of images in the input of our model.\n",
        "            train (bool, optional) – If True, creates dataset from MNIST training\n",
        "                samples, otherwise from test\n",
        "        \"\"\"\n",
        "\n",
        "        self.num_inputs = num_inputs\n",
        "        self.mnist = torchvision.datasets.MNIST('../data', train=train, download=True)\n",
        "\n",
        "        # dict with samples for each class label\n",
        "        self.data = {}\n",
        "        for label in range(10):\n",
        "            #Collect in separate lists the different digits, and normalise values to [0, 1]\n",
        "            self.data[label] = self.mnist.data[self.mnist.targets == label] / 255.0\n",
        "\n",
        "\n",
        "\n",
        "    def __len__(self):\n",
        "        # The length makes little sense here, as we generate samples dynamically\n",
        "        # Here we return the number of images originally in the dataset\n",
        "        return self.mnist.data.shape[0]\n",
        "\n",
        "    def __getitem__(self, idx):\n",
        "        \"\"\"\n",
        "        Args:\n",
        "            idx (int) - an index indicating which digit should be used as query\n",
        "        \"\"\"\n",
        "        c = self.mnist.targets[idx].item()     # Find out which is the class of the digit requested\n",
        "        query = self.mnist.data[idx].flatten() / 255.0 # Get the data for the digit requested\n",
        "\n",
        "        correct_pos = np.random.randint(0, self.num_inputs) # Decide on a random position where the correct answer will be\n",
        "\n",
        "        inputs = np.zeros((self.num_inputs, 784)) # Create an array to hold the inputs (from which we have to select one)\n",
        "        for j in range(self.num_inputs):\n",
        "            if j == correct_pos: # In the correct position, place a random digit that comes from the c+1 class\n",
        "                idx = np.random.randint(0,self.data[(c+1)%10].shape[0])\n",
        "                inputs[j,:] = self.data[(c+1)%10][idx,:].flatten()\n",
        "            else: # In the rest of the positions, place random digits that come from the rest of the classes\n",
        "                c_distractor = np.random.choice([n for n in [0,1,2,3,4,5,6,7,8,9] if n!=(c+1)%10])\n",
        "                idx = np.random.randint(0,self.data[c_distractor].shape[0])\n",
        "                inputs[j,:] = self.data[c_distractor][idx,:].flatten()\n",
        "\n",
        "        sample = {'x': inputs, 'query': query, 'y': correct_pos}\n",
        "\n",
        "        return sample"
      ]
    },
    {
      "cell_type": "code",
      "execution_count": 25,
      "metadata": {
        "id": "hL2kwN-kpjUc"
      },
      "outputs": [],
      "source": [
        "num_inputs = 10\n",
        "\n",
        "train_dataset = MNISTAttentionDataset(num_inputs, train=True)\n",
        "test_dataset = MNISTAttentionDataset(num_inputs, train=False)\n",
        "\n",
        "train_loader = DataLoader(train_dataset, batch_size = 64, shuffle = True)\n",
        "test_loader  = DataLoader(test_dataset, batch_size = 1000, shuffle = False)"
      ]
    },
    {
      "cell_type": "markdown",
      "metadata": {
        "id": "RES5R0CMr3bE"
      },
      "source": [
        "### Visualize one training sample"
      ]
    },
    {
      "cell_type": "code",
      "execution_count": 26,
      "metadata": {
        "colab": {
          "base_uri": "https://localhost:8080/",
          "height": 93
        },
        "id": "fJY6zR_lqR41",
        "outputId": "cd058510-cbaf-49f6-cffa-fee04af67122"
      },
      "outputs": [
        {
          "output_type": "stream",
          "name": "stdout",
          "text": [
            "Data: (10, 784), Query: torch.Size([784])\n"
          ]
        },
        {
          "output_type": "display_data",
          "data": {
            "text/plain": [
              "<Figure size 3300x300 with 11 Axes>"
            ],
            "image/png": "[encoded data removed]"
          },
          "metadata": {}
        }
      ],
      "source": [
        "sample = train_dataset[0]\n",
        "\n",
        "print(f\"Data: {sample['x'].shape}, Query: {sample['query'].shape}\")\n",
        "\n",
        "fig = plt.figure(figsize=(33, 3))\n",
        "plt.tight_layout()\n",
        "\n",
        "ax = plt.subplot(1, num_inputs + 1, 1)\n",
        "image = sample['query'].reshape(28,28)\n",
        "plt.imshow(image, cmap='gray')\n",
        "plt.plot([0,27,27,0,0], [0,0,27,27,0], c='b') # Draw a blue box around the query sample\n",
        "ax.set_title('Query')\n",
        "ax.axis('off')\n",
        "\n",
        "for i in range(num_inputs):\n",
        "    ax = plt.subplot(1, num_inputs + 1, i+2)\n",
        "    ax.set_title('Sample #{}'.format(i))\n",
        "    ax.axis('off')\n",
        "    image = sample['x'][i].reshape(28,28)\n",
        "    plt.imshow(image, cmap='gray')\n",
        "    if i == sample['y']:\n",
        "        plt.plot([0,27,27,0,0], [0,0,27,27,0], c='g') # Draw a green box around the correct sample\n",
        "        ax.set_title('Target')\n",
        "    else:\n",
        "        plt.plot([0,27,27,0,0], [0,0,27,27,0], c='r') # Draw a blue box around the wrong sample\n",
        "        ax.set_title('Distractor #{}'.format(i))\n",
        "    ax.axis('off')\n",
        "\n",
        "plt.show()"
      ]
    },
    {
      "cell_type": "markdown",
      "metadata": {
        "id": "DVaMM-n2sFF6"
      },
      "source": [
        "### Create the model"
      ]
    },
    {
      "cell_type": "code",
      "execution_count": 27,
      "metadata": {
        "id": "BesD8B1BAW9u"
      },
      "outputs": [],
      "source": [
        "class AttentionModel(nn.Module):\n",
        "    def __init__(self, input_dim, num_inputs, hidden_dim):\n",
        "        super(AttentionModel, self).__init__()\n",
        "        self.hidden_dim = hidden_dim\n",
        "        self.num_inputs = num_inputs\n",
        "        self.input_dim  = input_dim\n",
        "\n",
        "        # Weights (Fully Connected layers)\n",
        "        self.fc_q = nn.Linear(input_dim, hidden_dim) # Query FC\n",
        "        self.fc_k = nn.Linear(input_dim, hidden_dim) # Keys FC. Here the input acts as the keys, and there is no value\n",
        "        self.fc_v = nn.Linear(hidden_dim, 1) # Values FC\n",
        "\n",
        "    def scoringAdditive(self, query, keys):\n",
        "        # Query is                                              (B X 1 X input_dim)\n",
        "        # Repeat (tile) the query so that it has the same size as the keys (input)\n",
        "        query = query.repeat(1, self.num_inputs, 1)           # (B X num_inputs X input_dim)\n",
        "        query = torch.tanh(self.fc_q(query))                  # (B X num_inputs X hidden_dim)\n",
        "\n",
        "        # Keys is                                               (B X num_inputs X input_dim)\n",
        "        keys = torch.tanh(self.fc_k(keys))                    # (B X num_inputs X hidden_dim)\n",
        "\n",
        "        # Attention Score\n",
        "        score = torch.tanh(query + keys )                     # (B X num_inputs X hidden_dim)\n",
        "        score = self.fc_v(score)                              # (B X num_inputs X 1)\n",
        "        return score\n",
        "\n",
        "    def forward(self, x, query):\n",
        "        query = query.unsqueeze(1) # (B x input_dim) -> (B x 1 x input_dim)\n",
        "\n",
        "        # Calculate attention scores\n",
        "        output = self.scoringAdditive(query, x)\n",
        "        output = output.squeeze()       # (B x 1 x num_inputs) -> (B x num_inputs)\n",
        "        return output"
      ]
    },
    {
      "cell_type": "markdown",
      "metadata": {
        "id": "y_yCyvgg9Pbj"
      },
      "source": [
        "<font color=\"red\">\n",
        "\n",
        "**QUESTION**: The Additive score gives logits that we should pass through a softmax to get the final attention weights. Why is there no softmax in the model above?</font>"
      ]
    },
    {
      "cell_type": "markdown",
      "metadata": {
        "id": "JKYdj7h8_rU_"
      },
      "source": [
        "---\n",
        "    \n",
        "**ANSWER**: Because the entropy loss function (applied afterwards) in itself calculates the softmax, so calculating it again would be not only redundant but it would destroy our model calculations. \"Note that this case is equivalent to applying LogSoftmax on an input, followed by NLLLoss.\" https://pytorch.org/docs/stable/generated/torch.nn.CrossEntropyLoss.html\n",
        "\n",
        "---"
      ]
    },
    {
      "cell_type": "code",
      "execution_count": 28,
      "metadata": {
        "colab": {
          "base_uri": "https://localhost:8080/"
        },
        "id": "nsyUZE0lHJ5-",
        "outputId": "4163a0a0-b2af-47e4-c604-54dfcb3eb552"
      },
      "outputs": [
        {
          "output_type": "stream",
          "name": "stdout",
          "text": [
            "AttentionModel(\n",
            "  (fc_q): Linear(in_features=784, out_features=256, bias=True)\n",
            "  (fc_k): Linear(in_features=784, out_features=256, bias=True)\n",
            "  (fc_v): Linear(in_features=256, out_features=1, bias=True)\n",
            ")\n"
          ]
        }
      ],
      "source": [
        "input_dim, num_inputs, hidden_dim = (784, 10, 256)\n",
        "\n",
        "model = AttentionModel(input_dim, num_inputs, hidden_dim)\n",
        "print(model)"
      ]
    },
    {
      "cell_type": "markdown",
      "metadata": {
        "id": "xmp0kuk2z3Rx"
      },
      "source": [
        "### Define the training method and train"
      ]
    },
    {
      "cell_type": "code",
      "execution_count": 29,
      "metadata": {
        "id": "6ZvGWqwDrc-V"
      },
      "outputs": [],
      "source": [
        "def train(model, device, train_loader, criterion, optimizer, epoch, log_interval = 100):\n",
        "    # Method to perform one epoch of training\n",
        "    model.train()\n",
        "    loss_values = []\n",
        "\n",
        "    for batch_idx, sample_batched in enumerate(train_loader):\n",
        "        data = sample_batched['x'].float()\n",
        "        query = sample_batched['query'].float()\n",
        "        target = sample_batched['y']\n",
        "        #print(data.shape, query.shape)\n",
        "        data, query, target = data.to(device), query.to(device), target.to(device)\n",
        "\n",
        "        optimizer.zero_grad()\n",
        "        output = model(data, query)\n",
        "        loss = criterion(output, target)\n",
        "        loss.backward()\n",
        "        optimizer.step()\n",
        "\n",
        "        loss_values.append(loss.detach().cpu().item())\n",
        "        if batch_idx % log_interval == 0:\n",
        "            print('Train Epoch: {} [{}/{} ({:.0f}%)]\\tLoss: {:.6f}'.format(\n",
        "                epoch, batch_idx * len(data), len(train_loader.dataset),\n",
        "                100. * batch_idx / len(train_loader), loss.item()))\n",
        "\n",
        "    return loss_values"
      ]
    },
    {
      "cell_type": "code",
      "execution_count": 30,
      "metadata": {
        "colab": {
          "base_uri": "https://localhost:8080/"
        },
        "id": "xoj0dUxY_rU_",
        "outputId": "c0222c4f-258d-4342-8d8a-f4fc95a62c06"
      },
      "outputs": [
        {
          "output_type": "stream",
          "name": "stdout",
          "text": [
            "Train Epoch: 1 [0/60000 (0%)]\tLoss: 2.315854\n",
            "Train Epoch: 1 [6400/60000 (11%)]\tLoss: 1.763308\n",
            "Train Epoch: 1 [12800/60000 (21%)]\tLoss: 1.221268\n",
            "Train Epoch: 1 [19200/60000 (32%)]\tLoss: 0.700401\n",
            "Train Epoch: 1 [25600/60000 (43%)]\tLoss: 0.747629\n",
            "Train Epoch: 1 [32000/60000 (53%)]\tLoss: 0.638175\n",
            "Train Epoch: 1 [38400/60000 (64%)]\tLoss: 0.626632\n",
            "Train Epoch: 1 [44800/60000 (75%)]\tLoss: 0.667652\n",
            "Train Epoch: 1 [51200/60000 (85%)]\tLoss: 0.458889\n",
            "Train Epoch: 1 [57600/60000 (96%)]\tLoss: 0.595897\n",
            "Train Epoch: 2 [0/60000 (0%)]\tLoss: 0.542638\n",
            "Train Epoch: 2 [6400/60000 (11%)]\tLoss: 0.477217\n",
            "Train Epoch: 2 [12800/60000 (21%)]\tLoss: 0.577754\n",
            "Train Epoch: 2 [19200/60000 (32%)]\tLoss: 0.466386\n",
            "Train Epoch: 2 [25600/60000 (43%)]\tLoss: 0.343145\n",
            "Train Epoch: 2 [32000/60000 (53%)]\tLoss: 0.353948\n",
            "Train Epoch: 2 [38400/60000 (64%)]\tLoss: 0.437156\n",
            "Train Epoch: 2 [44800/60000 (75%)]\tLoss: 0.583622\n",
            "Train Epoch: 2 [51200/60000 (85%)]\tLoss: 0.503517\n",
            "Train Epoch: 2 [57600/60000 (96%)]\tLoss: 0.547612\n",
            "Train Epoch: 3 [0/60000 (0%)]\tLoss: 0.258856\n",
            "Train Epoch: 3 [6400/60000 (11%)]\tLoss: 0.397252\n",
            "Train Epoch: 3 [12800/60000 (21%)]\tLoss: 0.380138\n",
            "Train Epoch: 3 [19200/60000 (32%)]\tLoss: 0.336296\n",
            "Train Epoch: 3 [25600/60000 (43%)]\tLoss: 0.248966\n",
            "Train Epoch: 3 [32000/60000 (53%)]\tLoss: 0.292459\n",
            "Train Epoch: 3 [38400/60000 (64%)]\tLoss: 0.341342\n",
            "Train Epoch: 3 [44800/60000 (75%)]\tLoss: 0.317062\n",
            "Train Epoch: 3 [51200/60000 (85%)]\tLoss: 0.341083\n",
            "Train Epoch: 3 [57600/60000 (96%)]\tLoss: 0.321416\n",
            "Train Epoch: 4 [0/60000 (0%)]\tLoss: 0.266918\n",
            "Train Epoch: 4 [6400/60000 (11%)]\tLoss: 0.369934\n",
            "Train Epoch: 4 [12800/60000 (21%)]\tLoss: 0.287867\n",
            "Train Epoch: 4 [19200/60000 (32%)]\tLoss: 0.312970\n",
            "Train Epoch: 4 [25600/60000 (43%)]\tLoss: 0.244494\n",
            "Train Epoch: 4 [32000/60000 (53%)]\tLoss: 0.391170\n",
            "Train Epoch: 4 [38400/60000 (64%)]\tLoss: 0.320706\n",
            "Train Epoch: 4 [44800/60000 (75%)]\tLoss: 0.582217\n",
            "Train Epoch: 4 [51200/60000 (85%)]\tLoss: 0.366752\n",
            "Train Epoch: 4 [57600/60000 (96%)]\tLoss: 0.257666\n",
            "Train Epoch: 5 [0/60000 (0%)]\tLoss: 0.490090\n",
            "Train Epoch: 5 [6400/60000 (11%)]\tLoss: 0.388547\n",
            "Train Epoch: 5 [12800/60000 (21%)]\tLoss: 0.441337\n",
            "Train Epoch: 5 [19200/60000 (32%)]\tLoss: 0.410428\n",
            "Train Epoch: 5 [25600/60000 (43%)]\tLoss: 0.250827\n",
            "Train Epoch: 5 [32000/60000 (53%)]\tLoss: 0.274660\n",
            "Train Epoch: 5 [38400/60000 (64%)]\tLoss: 0.281095\n",
            "Train Epoch: 5 [44800/60000 (75%)]\tLoss: 0.288786\n",
            "Train Epoch: 5 [51200/60000 (85%)]\tLoss: 0.242890\n",
            "Train Epoch: 5 [57600/60000 (96%)]\tLoss: 0.317618\n",
            "Train Epoch: 6 [0/60000 (0%)]\tLoss: 0.258083\n",
            "Train Epoch: 6 [6400/60000 (11%)]\tLoss: 0.265873\n",
            "Train Epoch: 6 [12800/60000 (21%)]\tLoss: 0.223429\n",
            "Train Epoch: 6 [19200/60000 (32%)]\tLoss: 0.379064\n",
            "Train Epoch: 6 [25600/60000 (43%)]\tLoss: 0.349948\n",
            "Train Epoch: 6 [32000/60000 (53%)]\tLoss: 0.276359\n",
            "Train Epoch: 6 [38400/60000 (64%)]\tLoss: 0.377835\n",
            "Train Epoch: 6 [44800/60000 (75%)]\tLoss: 0.320714\n",
            "Train Epoch: 6 [51200/60000 (85%)]\tLoss: 0.397094\n",
            "Train Epoch: 6 [57600/60000 (96%)]\tLoss: 0.182986\n",
            "Train Epoch: 7 [0/60000 (0%)]\tLoss: 0.340133\n",
            "Train Epoch: 7 [6400/60000 (11%)]\tLoss: 0.193238\n",
            "Train Epoch: 7 [12800/60000 (21%)]\tLoss: 0.366121\n",
            "Train Epoch: 7 [19200/60000 (32%)]\tLoss: 0.343512\n",
            "Train Epoch: 7 [25600/60000 (43%)]\tLoss: 0.225522\n",
            "Train Epoch: 7 [32000/60000 (53%)]\tLoss: 0.261644\n",
            "Train Epoch: 7 [38400/60000 (64%)]\tLoss: 0.154229\n",
            "Train Epoch: 7 [44800/60000 (75%)]\tLoss: 0.258607\n",
            "Train Epoch: 7 [51200/60000 (85%)]\tLoss: 0.331396\n",
            "Train Epoch: 7 [57600/60000 (96%)]\tLoss: 0.242122\n",
            "Train Epoch: 8 [0/60000 (0%)]\tLoss: 0.409966\n",
            "Train Epoch: 8 [6400/60000 (11%)]\tLoss: 0.309787\n",
            "Train Epoch: 8 [12800/60000 (21%)]\tLoss: 0.203594\n",
            "Train Epoch: 8 [19200/60000 (32%)]\tLoss: 0.384771\n",
            "Train Epoch: 8 [25600/60000 (43%)]\tLoss: 0.220210\n",
            "Train Epoch: 8 [32000/60000 (53%)]\tLoss: 0.255867\n",
            "Train Epoch: 8 [38400/60000 (64%)]\tLoss: 0.201358\n",
            "Train Epoch: 8 [44800/60000 (75%)]\tLoss: 0.507602\n",
            "Train Epoch: 8 [51200/60000 (85%)]\tLoss: 0.288748\n",
            "Train Epoch: 8 [57600/60000 (96%)]\tLoss: 0.340334\n",
            "Train Epoch: 9 [0/60000 (0%)]\tLoss: 0.175143\n",
            "Train Epoch: 9 [6400/60000 (11%)]\tLoss: 0.310775\n",
            "Train Epoch: 9 [12800/60000 (21%)]\tLoss: 0.177427\n",
            "Train Epoch: 9 [19200/60000 (32%)]\tLoss: 0.138957\n",
            "Train Epoch: 9 [25600/60000 (43%)]\tLoss: 0.239178\n",
            "Train Epoch: 9 [32000/60000 (53%)]\tLoss: 0.244888\n",
            "Train Epoch: 9 [38400/60000 (64%)]\tLoss: 0.142804\n",
            "Train Epoch: 9 [44800/60000 (75%)]\tLoss: 0.306131\n",
            "Train Epoch: 9 [51200/60000 (85%)]\tLoss: 0.371260\n",
            "Train Epoch: 9 [57600/60000 (96%)]\tLoss: 0.145639\n",
            "Train Epoch: 10 [0/60000 (0%)]\tLoss: 0.270840\n",
            "Train Epoch: 10 [6400/60000 (11%)]\tLoss: 0.384680\n",
            "Train Epoch: 10 [12800/60000 (21%)]\tLoss: 0.411884\n",
            "Train Epoch: 10 [19200/60000 (32%)]\tLoss: 0.106325\n",
            "Train Epoch: 10 [25600/60000 (43%)]\tLoss: 0.224933\n",
            "Train Epoch: 10 [32000/60000 (53%)]\tLoss: 0.272706\n",
            "Train Epoch: 10 [38400/60000 (64%)]\tLoss: 0.233312\n",
            "Train Epoch: 10 [44800/60000 (75%)]\tLoss: 0.356757\n",
            "Train Epoch: 10 [51200/60000 (85%)]\tLoss: 0.328391\n",
            "Train Epoch: 10 [57600/60000 (96%)]\tLoss: 0.186564\n"
          ]
        }
      ],
      "source": [
        "model = model.to(device)\n",
        "\n",
        "optimizer = optim.Adam(model.parameters())\n",
        "\n",
        "criterion = nn.CrossEntropyLoss()\n",
        "\n",
        "epochs = 10\n",
        "\n",
        "loss_history = []\n",
        "for epoch in range(1, epochs + 1):\n",
        "    loss_values = train(model, device, train_loader, criterion, optimizer, epoch)\n",
        "    loss_history += loss_values"
      ]
    },
    {
      "cell_type": "code",
      "execution_count": 31,
      "metadata": {
        "colab": {
          "base_uri": "https://localhost:8080/",
          "height": 448
        },
        "id": "DOlEBPDP_rVA",
        "outputId": "62eedaee-489f-4d3f-b3ef-8269b5ba8d9b"
      },
      "outputs": [
        {
          "output_type": "execute_result",
          "data": {
            "text/plain": [
              "[<matplotlib.lines.Line2D at 0x7add56dea6b0>]"
            ]
          },
          "metadata": {},
          "execution_count": 31
        },
        {
          "output_type": "display_data",
          "data": {
            "text/plain": [
              "<Figure size 640x480 with 1 Axes>"
            ],
            "image/png": "[encoded data removed]"
          },
          "metadata": {}
        }
      ],
      "source": [
        "plt.plot(loss_history)"
      ]
    },
    {
      "cell_type": "markdown",
      "metadata": {
        "id": "jONlgxyaEwC6"
      },
      "source": [
        "### Evaluate the trained model"
      ]
    },
    {
      "cell_type": "code",
      "execution_count": 32,
      "metadata": {
        "id": "izgtCdk5DV01"
      },
      "outputs": [],
      "source": [
        "def evaluate(model, device, test_loader):\n",
        "    model.eval()\n",
        "    total = 0.\n",
        "    ok = 0.\n",
        "    for batch_idx, sample_batched in enumerate(test_loader):\n",
        "        data = sample_batched['x'].float()\n",
        "        query = sample_batched['query'].float()\n",
        "        target = sample_batched['y'].numpy()\n",
        "        data, query = data.to(device), query.to(device)\n",
        "\n",
        "        output = model(data, query)\n",
        "        pred = np.argmax(output.detach().cpu().numpy(), axis=1)\n",
        "\n",
        "        ok += np.sum(pred == target)\n",
        "        total += len(test_loader)\n",
        "\n",
        "    print('Accuracy = ', ok/total)"
      ]
    },
    {
      "cell_type": "code",
      "execution_count": 33,
      "metadata": {
        "colab": {
          "base_uri": "https://localhost:8080/"
        },
        "id": "iXYtp-rz_rVA",
        "outputId": "f208b0a4-b4a3-440f-be64-758a633df300"
      },
      "outputs": [
        {
          "output_type": "stream",
          "name": "stdout",
          "text": [
            "Accuracy =  91.91\n"
          ]
        }
      ],
      "source": [
        "evaluate(model, device, test_loader)"
      ]
    },
    {
      "cell_type": "markdown",
      "metadata": {
        "id": "CaOoDxjhhjxz"
      },
      "source": [
        "<font color=\"red\">\n",
        "\n",
        "**EXERCISE 1**: Starting from the previous model as a template, implement the Dot-product Attention scoring function and substitute the additive one we were using before. Retrain and evalute the model.</font>\n",
        "\n",
        "<font color=\"red\">\n",
        "\n",
        "> Hint: To transpose a tensor along specific dimensions you can use `torch.permute()`\n",
        "</font>\n",
        "\n",
        "\n",
        "<font color=\"red\">\n",
        "\n",
        "> Hint: To perform a batch matrix-matrix product, use the function `torch.bmm()` https://pytorch.org/docs/stable/generated/torch.bmm.html\n",
        "</font>"
      ]
    },
    {
      "cell_type": "code",
      "execution_count": 36,
      "metadata": {
        "id": "DRt3EQvh_rVA"
      },
      "outputs": [],
      "source": [
        "# YOUR CODE HERE\n",
        "class AttentionModelDotProduct(nn.Module):\n",
        "    def __init__(self, input_dim, num_inputs, hidden_dim):\n",
        "        super(AttentionModelDotProduct, self).__init__()\n",
        "        self.hidden_dim = hidden_dim\n",
        "        self.num_inputs = num_inputs\n",
        "        self.input_dim  = input_dim\n",
        "\n",
        "        # Weights (Fully Connected layers)\n",
        "        self.fc_q = nn.Linear(input_dim, hidden_dim) # Query FC\n",
        "        self.fc_k = nn.Linear(input_dim, hidden_dim) # Keys FC\n",
        "        self.fc_v = nn.Linear(hidden_dim, 1) # Values FC\n",
        "\n",
        "    def scoringDotProduct(self, query, keys):\n",
        "        # Query\n",
        "        query = torch.tanh(self.fc_q(query))\n",
        "\n",
        "        # Keys\n",
        "        keys = torch.tanh(self.fc_k(keys))\n",
        "        keys_transposed = keys.permute(0,2,1)\n",
        "\n",
        "        # Dot Product Score\n",
        "        score = torch.bmm(query, keys_transposed) # batch matrix product\n",
        "        score = score/np.sqrt(self.num_inputs)\n",
        "        score = score.permute(0,2,1) # trasposing tensor\n",
        "        return score\n",
        "\n",
        "    def forward(self, x, query):\n",
        "        query = query.unsqueeze(1)\n",
        "\n",
        "        # Calculate the Dot Product scores\n",
        "        output = self.scoringDotProduct(query, x)\n",
        "        output = output.squeeze()\n",
        "        return output"
      ]
    },
    {
      "cell_type": "markdown",
      "source": [
        "Dot Product Model training"
      ],
      "metadata": {
        "id": "Me5Aevi66zhP"
      }
    },
    {
      "cell_type": "code",
      "source": [
        "input_dim, num_inputs, hidden_dim = (784, 10, 256)\n",
        "\n",
        "model = AttentionModelDotProduct(input_dim, num_inputs, hidden_dim)\n",
        "print(model)"
      ],
      "metadata": {
        "colab": {
          "base_uri": "https://localhost:8080/"
        },
        "id": "plFWJ7wX6lfU",
        "outputId": "c991ce2a-651d-45d0-8ed3-bd7c66a43d47"
      },
      "execution_count": 37,
      "outputs": [
        {
          "output_type": "stream",
          "name": "stdout",
          "text": [
            "AttentionModelDotProduct(\n",
            "  (fc_q): Linear(in_features=784, out_features=256, bias=True)\n",
            "  (fc_k): Linear(in_features=784, out_features=256, bias=True)\n",
            "  (fc_v): Linear(in_features=256, out_features=1, bias=True)\n",
            ")\n"
          ]
        }
      ]
    },
    {
      "cell_type": "code",
      "source": [
        "model = model.to(device)\n",
        "\n",
        "optimizer = optim.Adam(model.parameters())\n",
        "\n",
        "criterion = nn.CrossEntropyLoss()\n",
        "\n",
        "epochs = 10\n",
        "\n",
        "loss_history = []\n",
        "for epoch in range(1, epochs + 1):\n",
        "    loss_values = train(model, device, train_loader, criterion, optimizer, epoch)\n",
        "    loss_history += loss_values\n",
        "\n",
        "plt.plot(loss_history)"
      ],
      "metadata": {
        "colab": {
          "base_uri": "https://localhost:8080/",
          "height": 1000
        },
        "id": "I_jO4pCC6l4C",
        "outputId": "af925942-b08c-4fed-9997-8221ce2c96e3"
      },
      "execution_count": 38,
      "outputs": [
        {
          "output_type": "stream",
          "name": "stdout",
          "text": [
            "Train Epoch: 1 [0/60000 (0%)]\tLoss: 2.300260\n",
            "Train Epoch: 1 [6400/60000 (11%)]\tLoss: 1.195054\n",
            "Train Epoch: 1 [12800/60000 (21%)]\tLoss: 0.765703\n",
            "Train Epoch: 1 [19200/60000 (32%)]\tLoss: 0.814746\n",
            "Train Epoch: 1 [25600/60000 (43%)]\tLoss: 0.659504\n",
            "Train Epoch: 1 [32000/60000 (53%)]\tLoss: 0.741288\n",
            "Train Epoch: 1 [38400/60000 (64%)]\tLoss: 0.599373\n",
            "Train Epoch: 1 [44800/60000 (75%)]\tLoss: 0.513734\n",
            "Train Epoch: 1 [51200/60000 (85%)]\tLoss: 0.593927\n",
            "Train Epoch: 1 [57600/60000 (96%)]\tLoss: 0.541027\n",
            "Train Epoch: 2 [0/60000 (0%)]\tLoss: 0.389947\n",
            "Train Epoch: 2 [6400/60000 (11%)]\tLoss: 0.384693\n",
            "Train Epoch: 2 [12800/60000 (21%)]\tLoss: 0.556500\n",
            "Train Epoch: 2 [19200/60000 (32%)]\tLoss: 0.235211\n",
            "Train Epoch: 2 [25600/60000 (43%)]\tLoss: 0.381866\n",
            "Train Epoch: 2 [32000/60000 (53%)]\tLoss: 0.459224\n",
            "Train Epoch: 2 [38400/60000 (64%)]\tLoss: 0.393159\n",
            "Train Epoch: 2 [44800/60000 (75%)]\tLoss: 0.211708\n",
            "Train Epoch: 2 [51200/60000 (85%)]\tLoss: 0.323647\n",
            "Train Epoch: 2 [57600/60000 (96%)]\tLoss: 0.307616\n",
            "Train Epoch: 3 [0/60000 (0%)]\tLoss: 0.356956\n",
            "Train Epoch: 3 [6400/60000 (11%)]\tLoss: 0.138647\n",
            "Train Epoch: 3 [12800/60000 (21%)]\tLoss: 0.312974\n",
            "Train Epoch: 3 [19200/60000 (32%)]\tLoss: 0.268746\n",
            "Train Epoch: 3 [25600/60000 (43%)]\tLoss: 0.440414\n",
            "Train Epoch: 3 [32000/60000 (53%)]\tLoss: 0.335800\n",
            "Train Epoch: 3 [38400/60000 (64%)]\tLoss: 0.234071\n",
            "Train Epoch: 3 [44800/60000 (75%)]\tLoss: 0.265335\n",
            "Train Epoch: 3 [51200/60000 (85%)]\tLoss: 0.207601\n",
            "Train Epoch: 3 [57600/60000 (96%)]\tLoss: 0.160384\n",
            "Train Epoch: 4 [0/60000 (0%)]\tLoss: 0.382156\n",
            "Train Epoch: 4 [6400/60000 (11%)]\tLoss: 0.350461\n",
            "Train Epoch: 4 [12800/60000 (21%)]\tLoss: 0.346891\n",
            "Train Epoch: 4 [19200/60000 (32%)]\tLoss: 0.254174\n",
            "Train Epoch: 4 [25600/60000 (43%)]\tLoss: 0.445508\n",
            "Train Epoch: 4 [32000/60000 (53%)]\tLoss: 0.247172\n",
            "Train Epoch: 4 [38400/60000 (64%)]\tLoss: 0.277824\n",
            "Train Epoch: 4 [44800/60000 (75%)]\tLoss: 0.140801\n",
            "Train Epoch: 4 [51200/60000 (85%)]\tLoss: 0.177622\n",
            "Train Epoch: 4 [57600/60000 (96%)]\tLoss: 0.291443\n",
            "Train Epoch: 5 [0/60000 (0%)]\tLoss: 0.175969\n",
            "Train Epoch: 5 [6400/60000 (11%)]\tLoss: 0.151479\n",
            "Train Epoch: 5 [12800/60000 (21%)]\tLoss: 0.186167\n",
            "Train Epoch: 5 [19200/60000 (32%)]\tLoss: 0.187100\n",
            "Train Epoch: 5 [25600/60000 (43%)]\tLoss: 0.344039\n",
            "Train Epoch: 5 [32000/60000 (53%)]\tLoss: 0.190001\n",
            "Train Epoch: 5 [38400/60000 (64%)]\tLoss: 0.165029\n",
            "Train Epoch: 5 [44800/60000 (75%)]\tLoss: 0.134428\n",
            "Train Epoch: 5 [51200/60000 (85%)]\tLoss: 0.203106\n",
            "Train Epoch: 5 [57600/60000 (96%)]\tLoss: 0.261701\n",
            "Train Epoch: 6 [0/60000 (0%)]\tLoss: 0.123641\n",
            "Train Epoch: 6 [6400/60000 (11%)]\tLoss: 0.260055\n",
            "Train Epoch: 6 [12800/60000 (21%)]\tLoss: 0.160028\n",
            "Train Epoch: 6 [19200/60000 (32%)]\tLoss: 0.335271\n",
            "Train Epoch: 6 [25600/60000 (43%)]\tLoss: 0.425753\n",
            "Train Epoch: 6 [32000/60000 (53%)]\tLoss: 0.199556\n",
            "Train Epoch: 6 [38400/60000 (64%)]\tLoss: 0.211206\n",
            "Train Epoch: 6 [44800/60000 (75%)]\tLoss: 0.064913\n",
            "Train Epoch: 6 [51200/60000 (85%)]\tLoss: 0.116145\n",
            "Train Epoch: 6 [57600/60000 (96%)]\tLoss: 0.172494\n",
            "Train Epoch: 7 [0/60000 (0%)]\tLoss: 0.108749\n",
            "Train Epoch: 7 [6400/60000 (11%)]\tLoss: 0.144450\n",
            "Train Epoch: 7 [12800/60000 (21%)]\tLoss: 0.165772\n",
            "Train Epoch: 7 [19200/60000 (32%)]\tLoss: 0.137262\n",
            "Train Epoch: 7 [25600/60000 (43%)]\tLoss: 0.227835\n",
            "Train Epoch: 7 [32000/60000 (53%)]\tLoss: 0.177171\n",
            "Train Epoch: 7 [38400/60000 (64%)]\tLoss: 0.144628\n",
            "Train Epoch: 7 [44800/60000 (75%)]\tLoss: 0.189705\n",
            "Train Epoch: 7 [51200/60000 (85%)]\tLoss: 0.123757\n",
            "Train Epoch: 7 [57600/60000 (96%)]\tLoss: 0.300510\n",
            "Train Epoch: 8 [0/60000 (0%)]\tLoss: 0.228405\n",
            "Train Epoch: 8 [6400/60000 (11%)]\tLoss: 0.208634\n",
            "Train Epoch: 8 [12800/60000 (21%)]\tLoss: 0.096402\n",
            "Train Epoch: 8 [19200/60000 (32%)]\tLoss: 0.057535\n",
            "Train Epoch: 8 [25600/60000 (43%)]\tLoss: 0.094547\n",
            "Train Epoch: 8 [32000/60000 (53%)]\tLoss: 0.064456\n",
            "Train Epoch: 8 [38400/60000 (64%)]\tLoss: 0.220972\n",
            "Train Epoch: 8 [44800/60000 (75%)]\tLoss: 0.127566\n",
            "Train Epoch: 8 [51200/60000 (85%)]\tLoss: 0.105051\n",
            "Train Epoch: 8 [57600/60000 (96%)]\tLoss: 0.242913\n",
            "Train Epoch: 9 [0/60000 (0%)]\tLoss: 0.225966\n",
            "Train Epoch: 9 [6400/60000 (11%)]\tLoss: 0.153552\n",
            "Train Epoch: 9 [12800/60000 (21%)]\tLoss: 0.120274\n",
            "Train Epoch: 9 [19200/60000 (32%)]\tLoss: 0.092313\n",
            "Train Epoch: 9 [25600/60000 (43%)]\tLoss: 0.119290\n",
            "Train Epoch: 9 [32000/60000 (53%)]\tLoss: 0.166885\n",
            "Train Epoch: 9 [38400/60000 (64%)]\tLoss: 0.173722\n",
            "Train Epoch: 9 [44800/60000 (75%)]\tLoss: 0.103280\n",
            "Train Epoch: 9 [51200/60000 (85%)]\tLoss: 0.085344\n",
            "Train Epoch: 9 [57600/60000 (96%)]\tLoss: 0.112848\n",
            "Train Epoch: 10 [0/60000 (0%)]\tLoss: 0.159507\n",
            "Train Epoch: 10 [6400/60000 (11%)]\tLoss: 0.193200\n",
            "Train Epoch: 10 [12800/60000 (21%)]\tLoss: 0.239829\n",
            "Train Epoch: 10 [19200/60000 (32%)]\tLoss: 0.179488\n",
            "Train Epoch: 10 [25600/60000 (43%)]\tLoss: 0.324351\n",
            "Train Epoch: 10 [32000/60000 (53%)]\tLoss: 0.122760\n",
            "Train Epoch: 10 [38400/60000 (64%)]\tLoss: 0.123372\n",
            "Train Epoch: 10 [44800/60000 (75%)]\tLoss: 0.125914\n",
            "Train Epoch: 10 [51200/60000 (85%)]\tLoss: 0.109000\n",
            "Train Epoch: 10 [57600/60000 (96%)]\tLoss: 0.101879\n"
          ]
        },
        {
          "output_type": "execute_result",
          "data": {
            "text/plain": [
              "[<matplotlib.lines.Line2D at 0x7add56c9ece0>]"
            ]
          },
          "metadata": {},
          "execution_count": 38
        },
        {
          "output_type": "display_data",
          "data": {
            "text/plain": [
              "<Figure size 640x480 with 1 Axes>"
            ],
            "image/png": "[encoded data removed]"
          },
          "metadata": {}
        }
      ]
    },
    {
      "cell_type": "code",
      "source": [
        "evaluate(model, device, test_loader)"
      ],
      "metadata": {
        "colab": {
          "base_uri": "https://localhost:8080/"
        },
        "id": "jd-AV3Cr6xfk",
        "outputId": "f683bbad-4c96-4921-8495-8e13b0df8eaa"
      },
      "execution_count": 39,
      "outputs": [
        {
          "output_type": "stream",
          "name": "stdout",
          "text": [
            "Accuracy =  94.77\n"
          ]
        }
      ]
    }
  ],
  "metadata": {
    "accelerator": "GPU",
    "colab": {
      "provenance": []
    },
    "kernelspec": {
      "display_name": "pytorch",
      "language": "python",
      "name": "pytorch"
    },
    "language_info": {
      "codemirror_mode": {
        "name": "ipython",
        "version": 3
      },
      "file_extension": ".py",
      "mimetype": "text/x-python",
      "name": "python",
      "nbconvert_exporter": "python",
      "pygments_lexer": "ipython3",
      "version": "3.9.16"
    }
  },
  "nbformat": 4,
  "nbformat_minor": 0
}